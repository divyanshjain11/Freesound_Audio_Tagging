{
 "cells": [
  {
   "cell_type": "markdown",
   "metadata": {},
   "source": [
    "<center> <h1> Freesound Audio Tagging </h1> </center>"
   ]
  },
  {
   "cell_type": "code",
   "execution_count": 1,
   "metadata": {},
   "outputs": [],
   "source": [
    "import tensorflow as tf\n",
    "import logging\n",
    "from inf import Output"
   ]
  },
  {
   "cell_type": "code",
   "execution_count": 2,
   "metadata": {},
   "outputs": [],
   "source": [
    "# Ref: https://stackoverflow.com/questions/55081911/tensorflow-2-0-0-alpha0-tf-logging-set-verbosity\n",
    "def ignore_warnings_tensorflow():\n",
    "    '''\n",
    "    This function is used to ignore tensorflow warnings \n",
    "    '''\n",
    "    logging.getLogger(\"tensorflow\").setLevel(logging.ERROR)\n",
    "    tf.compat.v1.logging.set_verbosity(tf.compat.v1.logging.ERROR)"
   ]
  },
  {
   "cell_type": "code",
   "execution_count": 3,
   "metadata": {},
   "outputs": [],
   "source": [
    "ignore_warnings_tensorflow()"
   ]
  },
  {
   "cell_type": "code",
   "execution_count": 4,
   "metadata": {},
   "outputs": [],
   "source": [
    "out = Output()"
   ]
  },
  {
   "cell_type": "code",
   "execution_count": 5,
   "metadata": {},
   "outputs": [],
   "source": [
    "def function_1(datapoint):\n",
    "    '''\n",
    "    This function is used to calculate and print the top 3 predicted class labels for an input clip (selected from the test set)\n",
    "    Input   -> Input .wav file's path\n",
    "    Returns -> None\n",
    "    '''\n",
    "    result = out.predict(datapoint)\n",
    "    print(\"Top 3 predicted class labels for the given clip are ->\")\n",
    "    for k, v in result.items():\n",
    "        print(k, \" : \", v)"
   ]
  },
  {
   "cell_type": "code",
   "execution_count": 6,
   "metadata": {},
   "outputs": [
    {
     "name": "stdout",
     "output_type": "stream",
     "text": [
      "Top 3 predicted class labels for the given clip are ->\n",
      "Microwave_oven  :  0.591\n",
      "Bicycle_bell  :  0.215\n",
      "Glockenspiel  :  0.071\n"
     ]
    }
   ],
   "source": [
    "random_test_file_path = r'F:\\Jupyter_Notebook\\AAIC\\Assignments\\Case_Study_2_Freesound_Audio_Tagging\\test\\f008118d.wav'\n",
    "function_1(random_test_file_path)"
   ]
  }
 ],
 "metadata": {
  "kernelspec": {
   "display_name": "Python 3",
   "language": "python",
   "name": "python3"
  },
  "language_info": {
   "codemirror_mode": {
    "name": "ipython",
    "version": 3
   },
   "file_extension": ".py",
   "mimetype": "text/x-python",
   "name": "python",
   "nbconvert_exporter": "python",
   "pygments_lexer": "ipython3",
   "version": "3.7.6"
  }
 },
 "nbformat": 4,
 "nbformat_minor": 4
}
