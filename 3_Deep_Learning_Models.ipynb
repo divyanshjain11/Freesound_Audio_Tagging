{
 "cells": [
  {
   "cell_type": "markdown",
   "metadata": {},
   "source": [
    "<center> <h1> Freesound Audio Tagging </h1> </center>"
   ]
  },
  {
   "cell_type": "markdown",
   "metadata": {},
   "source": [
    "# 5. Modelling"
   ]
  },
  {
   "cell_type": "markdown",
   "metadata": {},
   "source": [
    "### Importing Libraries"
   ]
  },
  {
   "cell_type": "code",
   "execution_count": 1,
   "metadata": {
    "_cell_guid": "79c7e3d0-c299-4dcb-8224-4455121ee9b0",
    "_uuid": "d629ff2d2480ee46fbb7e2d37f6b5fab8052498a"
   },
   "outputs": [],
   "source": [
    "# General imports\n",
    "import numpy as np\n",
    "import pandas as pd\n",
    "import scipy\n",
    "import datetime\n",
    "import zipfile\n",
    "import joblib\n",
    "import shutil\n",
    "import os\n",
    "import gc\n",
    "\n",
    "# Machine Learning imports\n",
    "from sklearn.metrics import label_ranking_average_precision_score\n",
    "from sklearn.model_selection import train_test_split\n",
    "\n",
    "# Visualization imports\n",
    "import matplotlib.pyplot as plt\n",
    "import seaborn as sns\n",
    "sns.set(style=\"white\")\n",
    "\n",
    "# Deep Learning Imports\n",
    "import tensorflow as tf\n",
    "from tensorflow.keras import models, optimizers\n",
    "from tensorflow.keras.callbacks import EarlyStopping, ModelCheckpoint, TensorBoard, Callback \n",
    "from tensorflow.keras.layers import  Input, Dense, LSTM, Convolution1D, MaxPool1D, Dropout, GlobalMaxPool1D\n",
    "from tensorflow.keras.utils import Sequence, to_categorical\n",
    "from tensorflow.keras.metrics import Metric\n",
    "from tensorflow.keras.backend import squeeze"
   ]
  },
  {
   "cell_type": "code",
   "execution_count": 2,
   "metadata": {},
   "outputs": [],
   "source": [
    "import warnings\n",
    "warnings.filterwarnings('ignore')"
   ]
  },
  {
   "cell_type": "code",
   "execution_count": 3,
   "metadata": {},
   "outputs": [],
   "source": [
    "# Setting seeds for replicable results\n",
    "tf.random.set_seed(21)\n",
    "np.random.seed(21)"
   ]
  },
  {
   "cell_type": "code",
   "execution_count": 4,
   "metadata": {},
   "outputs": [],
   "source": [
    "TRAIN_DIR = r'preprocessed_train_data/'\n",
    "VAL_DIR = r'preprocessed_val_data/'"
   ]
  },
  {
   "cell_type": "code",
   "execution_count": 5,
   "metadata": {},
   "outputs": [],
   "source": [
    "df_train = pd.read_csv(r'df_train.csv')\n",
    "df_train=df_train[['fname', 'labels']]\n",
    "df_train.to_csv('df_train.csv', index=False)\n",
    "\n",
    "df_val = pd.read_csv(r'df_val.csv')\n",
    "df_val=df_val[['fname', 'labels']]\n",
    "df_val.to_csv('df_val.csv', index=False)"
   ]
  },
  {
   "cell_type": "markdown",
   "metadata": {},
   "source": [
    "#### Creating Config Class"
   ]
  },
  {
   "cell_type": "code",
   "execution_count": 6,
   "metadata": {},
   "outputs": [],
   "source": [
    "# Config class is used to share global parameters across various functions\n",
    "class Config():\n",
    "    def __init__(self,\n",
    "                 sampling_rate=None,\n",
    "                 audio_duration=None,\n",
    "                 n_classes=80):\n",
    "        \n",
    "        self.sampling_rate = sampling_rate\n",
    "        self.audio_duration = audio_duration\n",
    "        self.n_classes = n_classes\n",
    "        self.audio_length = self.sampling_rate * self.audio_duration\n",
    "        self.dim = (self.audio_length, 1)"
   ]
  },
  {
   "cell_type": "code",
   "execution_count": 7,
   "metadata": {},
   "outputs": [],
   "source": [
    "config = Config(sampling_rate=16000, audio_duration=15)"
   ]
  },
  {
   "cell_type": "markdown",
   "metadata": {},
   "source": [
    "#### Label Encoding"
   ]
  },
  {
   "cell_type": "code",
   "execution_count": 9,
   "metadata": {},
   "outputs": [],
   "source": [
    "# class_map is a hash table like mapping which assigns a unique integer between 0-79 to each of the unique class label\n",
    "LABELS = joblib.load(r'labels.joblib')\n",
    "index_list = list(range(len(LABELS)))\n",
    "label_dict = {'Numeric_Label' : index_list, 'Text_Label' : LABELS}\n",
    "class_map_df = pd.DataFrame(label_dict)\n",
    "class_map_df.to_csv(r'class_map.csv', header=False, index=False)"
   ]
  },
  {
   "cell_type": "markdown",
   "metadata": {},
   "source": [
    "### Input pipeline (creation of train and validation dataset)"
   ]
  },
  {
   "cell_type": "code",
   "execution_count": 10,
   "metadata": {},
   "outputs": [],
   "source": [
    "def get_audio(clip_path):\n",
    "    '''\n",
    "    Read the contents of the clip_path which is a .wav file using scipy.io.read(), convert it into a tensor and them return it\n",
    "    Input ->\n",
    "    clip_path: Path to the .wav file to be read\n",
    "    Output ->\n",
    "    Tensor contating the contents of the .wav file\n",
    "    '''\n",
    "    clip_path = clip_path.numpy()\n",
    "    _, data = scipy.io.read(clip_path)\n",
    "    return tf.constant(data)\n",
    "\n",
    "def clip_to_waveform(clip, clip_dir=None):\n",
    "    \"\"\"\n",
    "    Decodes a WAV clip into a waveform tensor\n",
    "    This function is used as a wrapper for the above function because scipy can read only from strings and not tensors, so,\n",
    "    tf.py_function() is used to enable eager execution and convert tensor to numpy array\n",
    "    \n",
    "    Input ->\n",
    "    clip: Filename of the preprocessed .wav file to be read (\"preprocessed_file1.wav\")\n",
    "    clip_dir: Parent directory containing the above .wav file (preprocessed_train_dir)\n",
    "    \n",
    "    Output ->\n",
    "    Tensor representation of the preprocessed .wav file in the appropriate dimensions\n",
    "    \"\"\"\n",
    "    clip_path = tf.strings.join([clip_dir, clip], separator=os.sep)\n",
    "    clip_data = tf.py_function(get_audio, [clip_path], [tf.float32])\n",
    "    return tf.reshape(clip_data, (config.audio_length, 1)) \n",
    "\n",
    "\n",
    "def generating_features_and_labels(csv_record,\n",
    "                                   clip_dir=None,\n",
    "                                   label_class_index_table=None,\n",
    "                                   num_classes=None):\n",
    "    \"\"\"\n",
    "    Description -> Creates a tuple of (data, label) from a training record\n",
    "\n",
    "    Inputs ->\n",
    "    csv_record: a line from a training CSV file downloaded from Kaggle\n",
    "    clip_dir: path to a directory containing clips referenced by csv_record\n",
    "    label_class_index_table: a lookup table that represents the class map\n",
    "    num_classes: number of classes in the class map\n",
    "\n",
    "    Output ->\n",
    "    features: Tensor containing a data read from preprocessed .wav file\n",
    "    labels: Tensor containing corresponding labels in 1-hot format\n",
    "    \n",
    "    \"\"\"\n",
    "    # clip is the filename such as \"filename1.wav\"\n",
    "    # labels_str is the string of all labels corresponding to that filename eg., \"bike,vroom,accelarate\"\n",
    "    [clip, labels_str] = tf.io.decode_csv(csv_record, record_defaults=[[''],['']])\n",
    "    \n",
    "    # features are the windowed log mel spectrogram examples\n",
    "    features = clip_to_waveform(clip, clip_dir=clip_dir)\n",
    "    \n",
    "    # We split all the labels by comma\n",
    "    clip_labels = tf.strings.split([labels_str], sep=',').values\n",
    "    \n",
    "    # Obtain the corresponding indices from the lookup table\n",
    "    class_indices = label_class_index_table.lookup(clip_labels)\n",
    "    \n",
    "    # One Hot Encode the class_indices\n",
    "    label_onehots = tf.one_hot(indices=class_indices, depth=num_classes)\n",
    "    labels = tf.math.reduce_max(label_onehots, axis=[0], keepdims=False)\n",
    "    \n",
    "    return features, labels\n",
    "\n",
    "def get_class_map(class_map_path):\n",
    "    \"\"\"\n",
    "    Description -> Constructs a class label lookup table from a class map\n",
    "    \n",
    "    Input ->\n",
    "    class_map_path: Path to the class_map.csv file which contains the mapping of each unqiue class label to an integer from 0-79\n",
    "    \n",
    "    Output ->\n",
    "    label_class_index_table: Lookup table mapping each class label to a unique integer\n",
    "    num_classes: Total number of unique classes\n",
    "    \"\"\"\n",
    "    label_class_index_table = tf.lookup.StaticHashTable(tf.lookup.TextFileInitializer(filename=class_map_path,\n",
    "                                                                                      key_dtype=tf.string,\n",
    "                                                                                      key_index=1,\n",
    "                                                                                      value_dtype=tf.int32,\n",
    "                                                                                      value_index=0,\n",
    "                                                                                      delimiter=','),\n",
    "                                                        default_value=-1)\n",
    "    num_classes = len(open(class_map_path).readlines())\n",
    "    return label_class_index_table, num_classes"
   ]
  },
  {
   "cell_type": "code",
   "execution_count": 14,
   "metadata": {},
   "outputs": [],
   "source": [
    "#Ref: https://stackoverflow.com/questions/46263963/how-to-map-a-function-with-additional-parameter-using-the-new-dataset-api-in-tf1\n",
    "AUTOTUNE = tf.data.experimental.AUTOTUNE\n",
    "label_class_index_table, num_classes = get_class_map(class_map_path)\n",
    "\n",
    "# Load the training dataset from train_curated.csv file\n",
    "train_dataset = tf.data.TextLineDataset(train_csv_path)\n",
    "\n",
    "# Skip the header\n",
    "train_dataset = train_dataset.skip(1)\n",
    "\n",
    "train_dataset = train_dataset.map(lambda x: generating_features_and_labels(x,\n",
    "                                                                           clip_dir=TRAIN_DIR,\n",
    "                                                                           label_class_index_table=label_class_index_table,\n",
    "                                                                           num_classes=num_classes),\n",
    "                                  num_parallel_calls=AUTOTUNE)\n",
    "\n",
    "val_dataset = tf.data.TextLineDataset(val_csv_path)\n",
    "val_dataset = val_dataset.skip(1)\n",
    "val_dataset = val_dataset.map(lambda x: generating_features_and_labels(x,\n",
    "                                                                       clip_dir=VAL_DIR,\n",
    "                                                                       label_class_index_table=label_class_index_table,\n",
    "                                                                       num_classes=num_classes),\n",
    "                              num_parallel_calls=AUTOTUNE)"
   ]
  },
  {
   "cell_type": "code",
   "execution_count": 15,
   "metadata": {},
   "outputs": [
    {
     "name": "stdout",
     "output_type": "stream",
     "text": [
      "Shape of data =  tf.Tensor([240000      1], shape=(2,), dtype=int32)\n",
      "Shape of output label =  tf.Tensor([80], shape=(1,), dtype=int32)\n",
      "Example data point -> \n",
      " (<tf.Tensor: shape=(240000, 1), dtype=float32, numpy=\n",
      "array([[-4.5487093e-04],\n",
      "       [-6.8455690e-04],\n",
      "       [-9.0208353e-04],\n",
      "       ...,\n",
      "       [-3.2179447e-05],\n",
      "       [-2.9683917e-05],\n",
      "       [-4.5162695e-05]], dtype=float32)>, <tf.Tensor: shape=(80,), dtype=float32, numpy=\n",
      "array([0., 0., 0., 0., 0., 0., 0., 0., 0., 0., 0., 0., 0., 0., 0., 0., 0.,\n",
      "       0., 0., 0., 0., 0., 0., 0., 0., 0., 0., 0., 0., 0., 0., 0., 0., 0.,\n",
      "       0., 0., 0., 0., 1., 0., 0., 0., 0., 0., 0., 0., 0., 0., 0., 0., 0.,\n",
      "       0., 0., 0., 0., 0., 0., 0., 0., 0., 0., 0., 0., 0., 0., 0., 0., 0.,\n",
      "       0., 0., 0., 0., 0., 0., 0., 0., 0., 0., 0., 0.], dtype=float32)>)\n"
     ]
    }
   ],
   "source": [
    "for i in train_dataset:\n",
    "    print(\"Shape of data = \", tf.shape(i[0]))\n",
    "    print(\"Shape of output label = \", tf.shape(i[1]))\n",
    "    print(\"Example data point -> \\n\", i)\n",
    "    break"
   ]
  },
  {
   "cell_type": "markdown",
   "metadata": {},
   "source": [
    "### Code for the performance metric: LWLRAP"
   ]
  },
  {
   "cell_type": "code",
   "execution_count": 15,
   "metadata": {},
   "outputs": [],
   "source": [
    "# Reference implementation from: https://colab.research.google.com/drive/1AgPdhSp7ttY18O3fEoHOQKlt_3HJDLi8\n",
    "def _lwlrap_sklearn(truth, scores):\n",
    "    '''\n",
    "    Description -> Return the Label Weighted Label Ranking Average Precision (LWLRAP) of the given true and predicted\n",
    "    class labels\n",
    "    \n",
    "    Inputs ->\n",
    "    truth: OHE Vector of truth class label\n",
    "    scores: NumPy array of predictions\n",
    "    \n",
    "    Output -> LWLRAP score\n",
    "    '''\n",
    "    sample_weight = np.sum(truth > 0, axis=1)\n",
    "    nonzero_weight_sample_indices = np.flatnonzero(sample_weight > 0)\n",
    "    overall_lwlrap = label_ranking_average_precision_score(\n",
    "        truth[nonzero_weight_sample_indices, :] > 0, \n",
    "        scores[nonzero_weight_sample_indices, :], \n",
    "        sample_weight=sample_weight[nonzero_weight_sample_indices])\n",
    "    return overall_lwlrap\n",
    "\n",
    "\n",
    "def _one_sample_positive_class_precisions(example):\n",
    "    y_true, y_pred = example\n",
    "    retrieved_classes = tf.argsort(y_pred, direction='DESCENDING')\n",
    "    class_rankings = tf.argsort(retrieved_classes)\n",
    "    retrieved_class_true = tf.gather(y_true, retrieved_classes)\n",
    "    retrieved_cumulative_hits = tf.math.cumsum(tf.cast(retrieved_class_true, tf.float32))\n",
    "\n",
    "    idx = tf.where(y_true)[:, 0]\n",
    "    i = tf.boolean_mask(class_rankings, y_true)\n",
    "    r = tf.gather(retrieved_cumulative_hits, i)\n",
    "    c = 1 + tf.cast(i, tf.float32)\n",
    "    precisions = r / c\n",
    "    dense = tf.scatter_nd(idx[:, None], precisions, [y_pred.shape[0]])\n",
    "    return dense\n",
    "\n",
    "class LWLRAP(Metric):\n",
    "    def __init__(self, num_classes, name='lwlrap'):\n",
    "        super().__init__(name=name)\n",
    "\n",
    "        self._precisions = self.add_weight(\n",
    "            name='per_class_cumulative_precision',\n",
    "            shape=[num_classes],\n",
    "            initializer='zeros')\n",
    "\n",
    "        self._counts = self.add_weight(\n",
    "            name='per_class_cumulative_count',\n",
    "            shape=[num_classes],\n",
    "            initializer='zeros')\n",
    "\n",
    "    def update_state(self, y_true, y_pred, sample_weight=None):\n",
    "        precisions = tf.map_fn(\n",
    "            fn=_one_sample_positive_class_precisions,\n",
    "            elems=(y_true, y_pred),\n",
    "            dtype=(tf.float32))\n",
    "\n",
    "        increments = tf.cast(precisions > 0, tf.float32)\n",
    "        total_increments = tf.reduce_sum(increments, axis=0)\n",
    "        total_precisions = tf.reduce_sum(precisions, axis=0)\n",
    "\n",
    "        self._precisions.assign_add(total_precisions)\n",
    "        self._counts.assign_add(total_increments)        \n",
    "\n",
    "    def result(self):\n",
    "        per_class_lwlrap = self._precisions / tf.maximum(self._counts, 1.0)\n",
    "        per_class_weight = self._counts / tf.reduce_sum(self._counts)\n",
    "        overall_lwlrap = tf.reduce_sum(per_class_lwlrap * per_class_weight)\n",
    "        return overall_lwlrap\n",
    "\n",
    "    def reset_states(self):\n",
    "        self._precisions.assign(self._precisions * 0)\n",
    "        self._counts.assign(self._counts * 0)"
   ]
  },
  {
   "cell_type": "markdown",
   "metadata": {},
   "source": [
    "## Basline Model (Single layered LSTM)"
   ]
  },
  {
   "cell_type": "markdown",
   "metadata": {},
   "source": [
    "We define a very basic baseline model (1-layered LSTM) which will be used to compare the performance of future models"
   ]
  },
  {
   "cell_type": "code",
   "execution_count": 8,
   "metadata": {},
   "outputs": [],
   "source": [
    "def get_baseline_lstm_model():\n",
    "    '''\n",
    "    Description -> Return the compiled LSTM Model\n",
    "    Input -> None\n",
    "    Output -> Compiled Baseline LSTM Model\n",
    "    '''\n",
    "    nclass = config.n_classes\n",
    "    input_length = config.audio_length\n",
    "    inp = Input(shape=(input_length, 1))\n",
    "    x = tf.keras.layers.LSTM(16)(inp)\n",
    "    out = Dense(nclass, activation='sigmoid')(x)\n",
    "    model = models.Model(inputs=inp, outputs=out)\n",
    "    model.compile(optimizer='adam', loss='categorical_crossentropy', metrics=[LWLRAP(config.n_classes)])\n",
    "    return model"
   ]
  },
  {
   "cell_type": "code",
   "execution_count": 17,
   "metadata": {
    "execution": {
     "iopub.execute_input": "2020-12-10T10:13:06.424855Z",
     "iopub.status.busy": "2020-12-10T10:13:06.424265Z",
     "iopub.status.idle": "2020-12-10T10:13:06.737428Z",
     "shell.execute_reply": "2020-12-10T10:13:06.736593Z"
    },
    "papermill": {
     "duration": 0.333504,
     "end_time": "2020-12-10T10:13:06.737553",
     "exception": false,
     "start_time": "2020-12-10T10:13:06.404049",
     "status": "completed"
    },
    "tags": []
   },
   "outputs": [
    {
     "name": "stdout",
     "output_type": "stream",
     "text": [
      "Model: \"functional_1\"\n",
      "_________________________________________________________________\n",
      "Layer (type)                 Output Shape              Param #   \n",
      "=================================================================\n",
      "input_1 (InputLayer)         [(None, 240000, 1)]       0         \n",
      "_________________________________________________________________\n",
      "lstm (LSTM)                  (None, 16)                1152      \n",
      "_________________________________________________________________\n",
      "dense (Dense)                (None, 80)                1360      \n",
      "=================================================================\n",
      "Total params: 2,512\n",
      "Trainable params: 2,512\n",
      "Non-trainable params: 0\n",
      "_________________________________________________________________\n"
     ]
    }
   ],
   "source": [
    "model = get_baseline_lstm_model()\n",
    "model.summary()"
   ]
  },
  {
   "cell_type": "code",
   "execution_count": 18,
   "metadata": {
    "execution": {
     "iopub.execute_input": "2020-12-10T10:13:07.002028Z",
     "iopub.status.busy": "2020-12-10T10:13:07.000962Z",
     "iopub.status.idle": "2020-12-10T10:13:07.002835Z",
     "shell.execute_reply": "2020-12-10T10:13:07.003478Z"
    },
    "papermill": {
     "duration": 0.249115,
     "end_time": "2020-12-10T10:13:07.003634",
     "exception": false,
     "start_time": "2020-12-10T10:13:06.754519",
     "status": "completed"
    },
    "tags": []
   },
   "outputs": [],
   "source": [
    "log_dir = \"logs/fit/\" + datetime.datetime.now().strftime(\"%Y%m%d-%H%M%S\")\n",
    "\n",
    "tensorboard_callback = TensorBoard(log_dir=log_dir, histogram_freq=1)\n",
    "checkpoint = ModelCheckpoint(filepath='weights_{epoch}-loss_{loss:.4f}_lwlrap_{lwlrap:.4f}.h5',\n",
    "                             verbose=0, save_weights_only=True)\n",
    "\n",
    "callbacks_list = [checkpoint, tensorboard_callback]"
   ]
  },
  {
   "cell_type": "code",
   "execution_count": 19,
   "metadata": {},
   "outputs": [],
   "source": [
    "# Creating mini batches of size 64\n",
    "batch_size = 64\n",
    "train_dataset = train_dataset.batch(batch_size)\n",
    "train_dataset = train_dataset.prefetch(AUTOTUNE)\n",
    "\n",
    "val_dataset = val_dataset.batch(batch_size)\n",
    "val_dataset = val_dataset.prefetch(AUTOTUNE)"
   ]
  },
  {
   "cell_type": "code",
   "execution_count": 20,
   "metadata": {
    "execution": {
     "iopub.execute_input": "2020-12-10T10:13:07.086433Z",
     "iopub.status.busy": "2020-12-10T10:13:07.085696Z",
     "iopub.status.idle": "2020-12-10T11:26:22.609889Z",
     "shell.execute_reply": "2020-12-10T11:26:22.610577Z"
    },
    "papermill": {
     "duration": 4395.546547,
     "end_time": "2020-12-10T11:26:22.610765",
     "exception": false,
     "start_time": "2020-12-10T10:13:07.064218",
     "status": "completed"
    },
    "tags": []
   },
   "outputs": [
    {
     "name": "stdout",
     "output_type": "stream",
     "text": [
      "Epoch 1/10\n",
      "55/55 - 482s - loss: 5.0678 - lwlrap: 0.0657 - val_loss: 5.0667 - val_lwlrap: 0.0634\n",
      "Epoch 2/10\n",
      "55/55 - 426s - loss: 5.0666 - lwlrap: 0.0699 - val_loss: 5.0668 - val_lwlrap: 0.0656\n",
      "Epoch 3/10\n",
      "55/55 - 427s - loss: 5.0713 - lwlrap: 0.0689 - val_loss: 5.0841 - val_lwlrap: 0.0652\n",
      "Epoch 4/10\n",
      "55/55 - 426s - loss: 5.0751 - lwlrap: 0.0655 - val_loss: 5.0935 - val_lwlrap: 0.0624\n",
      "Epoch 5/10\n",
      "55/55 - 427s - loss: 5.0768 - lwlrap: 0.0689 - val_loss: 5.0869 - val_lwlrap: 0.0604\n",
      "Epoch 6/10\n",
      "55/55 - 428s - loss: 5.0747 - lwlrap: 0.0665 - val_loss: 5.0811 - val_lwlrap: 0.0600\n",
      "Epoch 7/10\n",
      "55/55 - 426s - loss: 5.0723 - lwlrap: 0.0654 - val_loss: 5.0779 - val_lwlrap: 0.0602\n",
      "Epoch 8/10\n",
      "55/55 - 428s - loss: 5.0711 - lwlrap: 0.0649 - val_loss: 5.0768 - val_lwlrap: 0.0611\n",
      "Epoch 9/10\n",
      "55/55 - 426s - loss: 5.0703 - lwlrap: 0.0651 - val_loss: 5.0763 - val_lwlrap: 0.0607\n",
      "Epoch 10/10\n",
      "55/55 - 425s - loss: 5.0698 - lwlrap: 0.0651 - val_loss: 5.0761 - val_lwlrap: 0.0607\n"
     ]
    }
   ],
   "source": [
    "# Training the model for 10 epochs\n",
    "\n",
    "history = model.fit(train_dataset,\n",
    "                    validation_data=val_dataset,\n",
    "                    callbacks=callbacks_list,\n",
    "                    verbose=2,\n",
    "                    epochs=10)"
   ]
  },
  {
   "cell_type": "markdown",
   "metadata": {},
   "source": [
    "### Conclusion:\n",
    "The baseline model has an LWLRAP score close to 0 which is the minimum score and thus it means, we've to train a sufficiently complex model for this task."
   ]
  },
  {
   "cell_type": "markdown",
   "metadata": {},
   "source": [
    "## Model 1: 1-D CNN"
   ]
  },
  {
   "cell_type": "markdown",
   "metadata": {},
   "source": [
    "### Generating the train and validation dataset"
   ]
  },
  {
   "cell_type": "code",
   "execution_count": 26,
   "metadata": {},
   "outputs": [],
   "source": [
    "train_dataset = tf.data.TextLineDataset(train_csv_path)\n",
    "train_dataset = train_dataset.skip(1)\n",
    "train_dataset = train_dataset.map(lambda x: record_to_labeled_log_mel_examples(x,\n",
    "                                                                               clip_dir=TRAIN_DIR,\n",
    "                                                                               label_class_index_table=label_class_index_table,\n",
    "                                                                               num_classes=num_classes),\n",
    "                                  num_parallel_calls=AUTOTUNE)\n",
    "\n",
    "val_dataset = tf.data.TextLineDataset(val_csv_path)\n",
    "val_dataset = val_dataset.skip(1)\n",
    "val_dataset = val_dataset.map(lambda x: record_to_labeled_log_mel_examples(x,\n",
    "                                                                           clip_dir=VAL_DIR,\n",
    "                                                                           label_class_index_table=label_class_index_table,\n",
    "                                                                           num_classes=num_classes),\n",
    "                              num_parallel_calls=AUTOTUNE)"
   ]
  },
  {
   "cell_type": "code",
   "execution_count": 27,
   "metadata": {},
   "outputs": [],
   "source": [
    "batch_size = 64\n",
    "train_dataset = train_dataset.batch(batch_size)\n",
    "val_dataset = val_dataset.batch(batch_size)"
   ]
  },
  {
   "cell_type": "markdown",
   "metadata": {},
   "source": [
    "### Defining the model architecture"
   ]
  },
  {
   "cell_type": "code",
   "execution_count": 28,
   "metadata": {},
   "outputs": [],
   "source": [
    "def get_1d_cnn_model():\n",
    "    '''\n",
    "    Description -> Return the 1-D CNN Model of the below architecture compiled using \"Adam\" optimizer with a categorical\n",
    "    cross entropy loss function\n",
    "    Input -> None\n",
    "    Output -> Compiled 1-D CNN Model\n",
    "    '''\n",
    "    input_shape = config.dim\n",
    "    inp = Input(shape=input_shape)\n",
    "    \n",
    "    x = Convolution1D(16, 9, activation='relu', padding=\"valid\")(inp)\n",
    "    x = Convolution1D(16, 9, activation='relu', padding=\"valid\")(x)\n",
    "    x = MaxPool1D(16)(x)\n",
    "    x = Dropout(rate=0.1)(x)\n",
    "    \n",
    "    x = Convolution1D(32, 3, activation='relu', padding=\"valid\")(x)\n",
    "    x = Convolution1D(32, 3, activation='relu', padding=\"valid\")(x)\n",
    "    x = MaxPool1D(4)(x)\n",
    "    x = Dropout(rate=0.1)(x)\n",
    "    \n",
    "    x = Convolution1D(32, 3, activation='relu', padding=\"valid\")(x)\n",
    "    x = Convolution1D(32, 3, activation='relu', padding=\"valid\")(x)\n",
    "    x = MaxPool1D(4)(x)\n",
    "    x = Dropout(rate=0.1)(x)\n",
    "    \n",
    "    x = Convolution1D(256, 3, activation='relu', padding=\"valid\")(x)\n",
    "    x = Convolution1D(256, 3, activation='relu', padding=\"valid\")(x)\n",
    "    x = GlobalMaxPool1D()(x)\n",
    "    x = Dropout(rate=0.2)(x)\n",
    "\n",
    "    x = Dense(64, activation='relu')(x)\n",
    "    x = Dense(1028, activation='relu')(x)\n",
    "    out = Dense(80, activation='sigmoid')(x)\n",
    "    \n",
    "    model = models.Model(inputs=inp, outputs=out)\n",
    "    model.compile(optimizer='adam',\n",
    "                  loss='categorical_crossentropy',\n",
    "                  metrics=[LWLRAP(config.n_classes)])\n",
    "    \n",
    "    return model"
   ]
  },
  {
   "cell_type": "code",
   "execution_count": 19,
   "metadata": {},
   "outputs": [
    {
     "name": "stdout",
     "output_type": "stream",
     "text": [
      "Model: \"functional_1\"\n",
      "_________________________________________________________________\n",
      "Layer (type)                 Output Shape              Param #   \n",
      "=================================================================\n",
      "input_1 (InputLayer)         [(None, 240000, 1)]       0         \n",
      "_________________________________________________________________\n",
      "conv1d (Conv1D)              (None, 239992, 16)        160       \n",
      "_________________________________________________________________\n",
      "conv1d_1 (Conv1D)            (None, 239984, 16)        2320      \n",
      "_________________________________________________________________\n",
      "max_pooling1d (MaxPooling1D) (None, 14999, 16)         0         \n",
      "_________________________________________________________________\n",
      "dropout (Dropout)            (None, 14999, 16)         0         \n",
      "_________________________________________________________________\n",
      "conv1d_2 (Conv1D)            (None, 14997, 32)         1568      \n",
      "_________________________________________________________________\n",
      "conv1d_3 (Conv1D)            (None, 14995, 32)         3104      \n",
      "_________________________________________________________________\n",
      "max_pooling1d_1 (MaxPooling1 (None, 3748, 32)          0         \n",
      "_________________________________________________________________\n",
      "dropout_1 (Dropout)          (None, 3748, 32)          0         \n",
      "_________________________________________________________________\n",
      "conv1d_4 (Conv1D)            (None, 3746, 32)          3104      \n",
      "_________________________________________________________________\n",
      "conv1d_5 (Conv1D)            (None, 3744, 32)          3104      \n",
      "_________________________________________________________________\n",
      "max_pooling1d_2 (MaxPooling1 (None, 936, 32)           0         \n",
      "_________________________________________________________________\n",
      "dropout_2 (Dropout)          (None, 936, 32)           0         \n",
      "_________________________________________________________________\n",
      "conv1d_6 (Conv1D)            (None, 934, 256)          24832     \n",
      "_________________________________________________________________\n",
      "conv1d_7 (Conv1D)            (None, 932, 256)          196864    \n",
      "_________________________________________________________________\n",
      "global_max_pooling1d (Global (None, 256)               0         \n",
      "_________________________________________________________________\n",
      "dropout_3 (Dropout)          (None, 256)               0         \n",
      "_________________________________________________________________\n",
      "dense (Dense)                (None, 64)                16448     \n",
      "_________________________________________________________________\n",
      "dense_1 (Dense)              (None, 1028)              66820     \n",
      "_________________________________________________________________\n",
      "dense_2 (Dense)              (None, 80)                82320     \n",
      "=================================================================\n",
      "Total params: 400,644\n",
      "Trainable params: 400,644\n",
      "Non-trainable params: 0\n",
      "_________________________________________________________________\n"
     ]
    }
   ],
   "source": [
    "# Creating TF callbacks to get TensorBoard logs and to save model weights after every epoch\n",
    "log_dir = \"logs/fit/\" + datetime.datetime.now().strftime(\"%Y%m%d-%H%M%S\")\n",
    "tensorboard_callback = TensorBoard(log_dir=log_dir, histogram_freq=1)\n",
    "checkpoint = ModelCheckpoint(filepath='weights_{epoch}-loss_{loss:.4f}_lwlrap_{lwlrap:.4f}.h5',\n",
    "                             verbose=1, save_weights_only=True)\n",
    "callbacks_list = [checkpoint, tensorboard_callback]\n",
    "\n",
    "# Creating a model instance\n",
    "model = get_1d_cnn_model()\n",
    "model.summary()"
   ]
  },
  {
   "cell_type": "code",
   "execution_count": 20,
   "metadata": {
    "scrolled": true
   },
   "outputs": [
    {
     "name": "stdout",
     "output_type": "stream",
     "text": [
      "Epoch 1/50\n",
      "55/55 - 24s - loss: 5.0053 - lwlrap: 0.0840 - val_loss: 4.9608 - val_lwlrap: 0.0975\n",
      "Epoch 2/50\n",
      "55/55 - 22s - loss: 4.8237 - lwlrap: 0.1109 - val_loss: 4.7099 - val_lwlrap: 0.1207\n",
      "Epoch 3/50\n",
      "55/55 - 22s - loss: 4.6494 - lwlrap: 0.1286 - val_loss: 4.6168 - val_lwlrap: 0.1356\n",
      "Epoch 4/50\n",
      "55/55 - 23s - loss: 4.5568 - lwlrap: 0.1441 - val_loss: 4.5740 - val_lwlrap: 0.1440\n",
      "Epoch 5/50\n",
      "55/55 - 22s - loss: 4.4663 - lwlrap: 0.1588 - val_loss: 4.4023 - val_lwlrap: 0.1673\n",
      "Epoch 6/50\n",
      "55/55 - 22s - loss: 4.4021 - lwlrap: 0.1760 - val_loss: 4.3453 - val_lwlrap: 0.2001\n",
      "Epoch 7/50\n",
      "55/55 - 22s - loss: 4.2824 - lwlrap: 0.1977 - val_loss: 4.1543 - val_lwlrap: 0.2344\n",
      "Epoch 8/50\n",
      "55/55 - 22s - loss: 4.0526 - lwlrap: 0.2515 - val_loss: 3.9764 - val_lwlrap: 0.2708\n",
      "Epoch 9/50\n",
      "55/55 - 23s - loss: 3.8745 - lwlrap: 0.2959 - val_loss: 3.8776 - val_lwlrap: 0.2924\n",
      "Epoch 10/50\n",
      "55/55 - 22s - loss: 3.7120 - lwlrap: 0.3235 - val_loss: 3.7962 - val_lwlrap: 0.3153\n",
      "Epoch 11/50\n",
      "55/55 - 22s - loss: 3.5902 - lwlrap: 0.3446 - val_loss: 3.6311 - val_lwlrap: 0.3528\n",
      "Epoch 12/50\n",
      "55/55 - 22s - loss: 3.4591 - lwlrap: 0.3708 - val_loss: 3.5297 - val_lwlrap: 0.3829\n",
      "Epoch 13/50\n",
      "55/55 - 22s - loss: 3.3402 - lwlrap: 0.3967 - val_loss: 3.4572 - val_lwlrap: 0.3894\n",
      "Epoch 14/50\n",
      "55/55 - 22s - loss: 3.2059 - lwlrap: 0.4222 - val_loss: 3.4179 - val_lwlrap: 0.4063\n",
      "Epoch 15/50\n",
      "55/55 - 23s - loss: 3.1419 - lwlrap: 0.4361 - val_loss: 3.4252 - val_lwlrap: 0.4084\n",
      "Epoch 16/50\n",
      "55/55 - 22s - loss: 3.0179 - lwlrap: 0.4557 - val_loss: 3.4452 - val_lwlrap: 0.4166\n",
      "Epoch 17/50\n",
      "55/55 - 23s - loss: 2.9417 - lwlrap: 0.4741 - val_loss: 3.3691 - val_lwlrap: 0.4396\n",
      "Epoch 18/50\n",
      "55/55 - 22s - loss: 2.8600 - lwlrap: 0.4914 - val_loss: 3.2644 - val_lwlrap: 0.4547\n",
      "Epoch 19/50\n",
      "55/55 - 22s - loss: 2.7659 - lwlrap: 0.5084 - val_loss: 3.2256 - val_lwlrap: 0.4691\n",
      "Epoch 20/50\n",
      "55/55 - 22s - loss: 2.7013 - lwlrap: 0.5258 - val_loss: 3.1531 - val_lwlrap: 0.4818\n",
      "Epoch 21/50\n",
      "55/55 - 22s - loss: 2.5924 - lwlrap: 0.5457 - val_loss: 3.1296 - val_lwlrap: 0.4921\n",
      "Epoch 22/50\n",
      "55/55 - 23s - loss: 2.5313 - lwlrap: 0.5631 - val_loss: 3.1814 - val_lwlrap: 0.4858\n",
      "Epoch 23/50\n",
      "55/55 - 23s - loss: 2.4295 - lwlrap: 0.5764 - val_loss: 3.0937 - val_lwlrap: 0.5052\n",
      "Epoch 24/50\n",
      "55/55 - 23s - loss: 2.3950 - lwlrap: 0.5837 - val_loss: 3.0964 - val_lwlrap: 0.5166\n",
      "Epoch 25/50\n",
      "55/55 - 24s - loss: 2.3603 - lwlrap: 0.5892 - val_loss: 3.1160 - val_lwlrap: 0.5175\n",
      "Epoch 26/50\n",
      "55/55 - 22s - loss: 2.2708 - lwlrap: 0.6116 - val_loss: 3.0962 - val_lwlrap: 0.5190\n",
      "Epoch 27/50\n",
      "55/55 - 23s - loss: 2.2425 - lwlrap: 0.6196 - val_loss: 3.0503 - val_lwlrap: 0.5311\n",
      "Epoch 28/50\n",
      "55/55 - 23s - loss: 2.1619 - lwlrap: 0.6334 - val_loss: 3.1257 - val_lwlrap: 0.5289\n",
      "Epoch 29/50\n",
      "55/55 - 22s - loss: 2.1004 - lwlrap: 0.6460 - val_loss: 3.1321 - val_lwlrap: 0.5289\n",
      "Epoch 30/50\n",
      "55/55 - 22s - loss: 2.0910 - lwlrap: 0.6465 - val_loss: 3.2153 - val_lwlrap: 0.5258\n",
      "Epoch 31/50\n",
      "55/55 - 23s - loss: 2.0096 - lwlrap: 0.6617 - val_loss: 3.0838 - val_lwlrap: 0.5511\n",
      "Epoch 32/50\n",
      "55/55 - 23s - loss: 1.9884 - lwlrap: 0.6625 - val_loss: 3.0683 - val_lwlrap: 0.5427\n",
      "Epoch 33/50\n",
      "55/55 - 23s - loss: 1.9263 - lwlrap: 0.6774 - val_loss: 3.1112 - val_lwlrap: 0.5329\n",
      "Epoch 34/50\n",
      "55/55 - 22s - loss: 1.8843 - lwlrap: 0.6855 - val_loss: 3.0401 - val_lwlrap: 0.5504\n",
      "Epoch 35/50\n",
      "55/55 - 22s - loss: 1.8880 - lwlrap: 0.6871 - val_loss: 3.0995 - val_lwlrap: 0.5495\n",
      "Epoch 36/50\n",
      "55/55 - 23s - loss: 1.8475 - lwlrap: 0.6933 - val_loss: 3.1915 - val_lwlrap: 0.5422\n",
      "Epoch 37/50\n",
      "55/55 - 22s - loss: 1.7996 - lwlrap: 0.6980 - val_loss: 3.0680 - val_lwlrap: 0.5633\n",
      "Epoch 38/50\n",
      "55/55 - 23s - loss: 1.8306 - lwlrap: 0.6971 - val_loss: 3.1113 - val_lwlrap: 0.5546\n",
      "Epoch 39/50\n",
      "55/55 - 22s - loss: 1.8018 - lwlrap: 0.7008 - val_loss: 3.2279 - val_lwlrap: 0.5440\n",
      "Epoch 40/50\n",
      "55/55 - 22s - loss: 1.7936 - lwlrap: 0.7044 - val_loss: 3.0958 - val_lwlrap: 0.5619\n",
      "Epoch 41/50\n",
      "55/55 - 23s - loss: 1.6613 - lwlrap: 0.7304 - val_loss: 3.2838 - val_lwlrap: 0.5467\n",
      "Epoch 42/50\n",
      "55/55 - 22s - loss: 1.6770 - lwlrap: 0.7302 - val_loss: 3.2037 - val_lwlrap: 0.5573\n",
      "Epoch 43/50\n",
      "55/55 - 22s - loss: 1.6723 - lwlrap: 0.7250 - val_loss: 3.2466 - val_lwlrap: 0.5619\n",
      "Epoch 44/50\n",
      "55/55 - 23s - loss: 1.6196 - lwlrap: 0.7404 - val_loss: 3.2306 - val_lwlrap: 0.5569\n",
      "Epoch 45/50\n",
      "55/55 - 22s - loss: 1.6620 - lwlrap: 0.7347 - val_loss: 3.3210 - val_lwlrap: 0.5474\n",
      "Epoch 46/50\n",
      "55/55 - 23s - loss: 1.5820 - lwlrap: 0.7451 - val_loss: 3.3152 - val_lwlrap: 0.5578\n",
      "Epoch 47/50\n",
      "55/55 - 22s - loss: 1.5764 - lwlrap: 0.7513 - val_loss: 3.3244 - val_lwlrap: 0.5574\n",
      "Epoch 48/50\n",
      "55/55 - 22s - loss: 1.5429 - lwlrap: 0.7553 - val_loss: 3.1727 - val_lwlrap: 0.5533\n",
      "Epoch 49/50\n",
      "55/55 - 23s - loss: 1.4885 - lwlrap: 0.7656 - val_loss: 3.2849 - val_lwlrap: 0.5538\n",
      "Epoch 50/50\n",
      "55/55 - 22s - loss: 1.3756 - lwlrap: 0.7861 - val_loss: 3.3822 - val_lwlrap: 0.5664\n"
     ]
    }
   ],
   "source": [
    "# Training the model for 50 epochs\n",
    "\n",
    "history = model.fit(train_dataset,\n",
    "                    validation_data=val_dataset,\n",
    "                    callbacks=callbacks_list,\n",
    "                    verbose=2,\n",
    "                    epochs=50)"
   ]
  },
  {
   "cell_type": "markdown",
   "metadata": {},
   "source": [
    "### Cross validation curve for 1-D CNN Model"
   ]
  },
  {
   "cell_type": "markdown",
   "metadata": {},
   "source": [
    "### Loss curve"
   ]
  },
  {
   "attachments": {
    "epoch_loss.PNG": {
     "image/png": "[encoded data removed]"
    }
   },
   "cell_type": "markdown",
   "metadata": {},
   "source": [
    "![epoch_loss.PNG](attachment:epoch_loss.PNG)"
   ]
  },
  {
   "cell_type": "markdown",
   "metadata": {},
   "source": [
    "### LWLRAP Curve"
   ]
  },
  {
   "attachments": {
    "epoch_lwlrap.PNG": {
     "image/png": "[encoded data removed]"
    }
   },
   "cell_type": "markdown",
   "metadata": {},
   "source": [
    "![epoch_lwlrap.PNG](attachment:epoch_lwlrap.PNG)"
   ]
  },
  {
   "cell_type": "markdown",
   "metadata": {},
   "source": [
    "From the curves, 20 epochs seem to be enough as after that loss curve starts flattening and the gap between train and validation loss starts increasing"
   ]
  },
  {
   "cell_type": "markdown",
   "metadata": {},
   "source": [
    "### Conclusion:\n",
    "We get very good results as compared to the baseline model. The difference between the training and validation LWLRAP is also not very significant and hence we can conclude the model is not overfitting and performing good on the validation dataset as well."
   ]
  },
  {
   "cell_type": "markdown",
   "metadata": {},
   "source": [
    "## Performance on test dataset"
   ]
  },
  {
   "cell_type": "code",
   "execution_count": 28,
   "metadata": {},
   "outputs": [],
   "source": [
    "df_test = pd.read_csv(r'sample_submission.csv')"
   ]
  },
  {
   "cell_type": "markdown",
   "metadata": {},
   "source": [
    "#### Preparing test_dataset"
   ]
  },
  {
   "cell_type": "code",
   "execution_count": 29,
   "metadata": {},
   "outputs": [],
   "source": [
    "def test_data_generation(csv_record,\n",
    "                         clip_dir=None,\n",
    "                         label_class_index_table=None,\n",
    "                         num_classes=None):\n",
    "    \"\"\"\n",
    "    Description -> Creates a tensor of preprocessed test data read from .wav file\n",
    "\n",
    "    Inputs ->\n",
    "    csv_record: a line from a testing CSV file downloaded from Kaggle\n",
    "    clip_dir: path to a directory containing clips referenced by csv_record\n",
    "    label_class_index_table: a lookup table that represents the class map\n",
    "    num_classes: number of classes in the class map\n",
    "\n",
    "    Output ->\n",
    "    features: Tensor containing a data read from preprocessed .wav file\n",
    "    \"\"\"\n",
    "    clip = tf.strings.split(csv_record, sep=r',')[0]\n",
    "    features = clip_to_waveform(clip, clip_dir=clip_dir)\n",
    "    return features"
   ]
  },
  {
   "cell_type": "code",
   "execution_count": 30,
   "metadata": {},
   "outputs": [],
   "source": [
    "TEST_DIR = r'preprocessed_files_test/'\n",
    "test_csv_path  = r'sample_submission.csv'\n",
    "\n",
    "test_dataset = tf.data.TextLineDataset(test_csv_path)\n",
    "test_dataset = test_dataset.skip(1)\n",
    "test_dataset = test_dataset.map(lambda x: test_data_generation(x,\n",
    "                                                               clip_dir=TEST_DIR,\n",
    "                                                               label_class_index_table=label_class_index_table,\n",
    "                                                               num_classes=num_classes),\n",
    "                                  num_parallel_calls=AUTOTUNE)"
   ]
  },
  {
   "cell_type": "code",
   "execution_count": 31,
   "metadata": {},
   "outputs": [],
   "source": [
    "model = get_1d_cnn_model()\n",
    "model.load_weights(r'weights_21-loss_2.5924_lwlrap_0.5457.h5')"
   ]
  },
  {
   "cell_type": "markdown",
   "metadata": {},
   "source": [
    "#### Obtaining final predictions"
   ]
  },
  {
   "cell_type": "code",
   "execution_count": 14,
   "metadata": {},
   "outputs": [],
   "source": [
    "batch_size = 64\n",
    "test_dataset = test_dataset.batch(batch_size)"
   ]
  },
  {
   "cell_type": "code",
   "execution_count": 15,
   "metadata": {},
   "outputs": [
    {
     "name": "stdout",
     "output_type": "stream",
     "text": [
      "53/53 [==============================] - 6s 111ms/step\n"
     ]
    }
   ],
   "source": [
    "predictions_test = model.predict(test_dataset, verbose=1)"
   ]
  },
  {
   "cell_type": "code",
   "execution_count": 16,
   "metadata": {},
   "outputs": [
    {
     "data": {
      "text/html": [
       "<div>\n",
       "<style scoped>\n",
       "    .dataframe tbody tr th:only-of-type {\n",
       "        vertical-align: middle;\n",
       "    }\n",
       "\n",
       "    .dataframe tbody tr th {\n",
       "        vertical-align: top;\n",
       "    }\n",
       "\n",
       "    .dataframe thead th {\n",
       "        text-align: right;\n",
       "    }\n",
       "</style>\n",
       "<table border=\"1\" class=\"dataframe\">\n",
       "  <thead>\n",
       "    <tr style=\"text-align: right;\">\n",
       "      <th></th>\n",
       "      <th>fname</th>\n",
       "      <th>Accelerating_and_revving_and_vroom</th>\n",
       "      <th>Accordion</th>\n",
       "      <th>Acoustic_guitar</th>\n",
       "      <th>Applause</th>\n",
       "      <th>Bark</th>\n",
       "      <th>Bass_drum</th>\n",
       "      <th>Bass_guitar</th>\n",
       "      <th>Bathtub_(filling_or_washing)</th>\n",
       "      <th>Bicycle_bell</th>\n",
       "      <th>...</th>\n",
       "      <th>Toilet_flush</th>\n",
       "      <th>Traffic_noise_and_roadway_noise</th>\n",
       "      <th>Trickle_and_dribble</th>\n",
       "      <th>Walk_and_footsteps</th>\n",
       "      <th>Water_tap_and_faucet</th>\n",
       "      <th>Waves_and_surf</th>\n",
       "      <th>Whispering</th>\n",
       "      <th>Writing</th>\n",
       "      <th>Yell</th>\n",
       "      <th>Zipper_(clothing)</th>\n",
       "    </tr>\n",
       "  </thead>\n",
       "  <tbody>\n",
       "    <tr>\n",
       "      <th>0</th>\n",
       "      <td>4260ebea.wav</td>\n",
       "      <td>0.000005</td>\n",
       "      <td>1.301591e-07</td>\n",
       "      <td>1.445290e-05</td>\n",
       "      <td>4.680021e-06</td>\n",
       "      <td>1.005791e-03</td>\n",
       "      <td>1.792622e-03</td>\n",
       "      <td>1.090335e-07</td>\n",
       "      <td>0.024973</td>\n",
       "      <td>1.254646e-04</td>\n",
       "      <td>...</td>\n",
       "      <td>3.148988e-04</td>\n",
       "      <td>0.001114</td>\n",
       "      <td>1.757385e-04</td>\n",
       "      <td>0.013488</td>\n",
       "      <td>1.961741e-02</td>\n",
       "      <td>5.331765e-04</td>\n",
       "      <td>3.131244e-03</td>\n",
       "      <td>2.350447e-02</td>\n",
       "      <td>7.632723e-06</td>\n",
       "      <td>0.015852</td>\n",
       "    </tr>\n",
       "    <tr>\n",
       "      <th>1</th>\n",
       "      <td>426eb1e0.wav</td>\n",
       "      <td>0.000002</td>\n",
       "      <td>1.219258e-10</td>\n",
       "      <td>2.556864e-08</td>\n",
       "      <td>1.037996e-01</td>\n",
       "      <td>5.231419e-05</td>\n",
       "      <td>4.675826e-08</td>\n",
       "      <td>3.947943e-09</td>\n",
       "      <td>0.015704</td>\n",
       "      <td>2.240260e-03</td>\n",
       "      <td>...</td>\n",
       "      <td>4.306084e-04</td>\n",
       "      <td>0.000375</td>\n",
       "      <td>6.293600e-02</td>\n",
       "      <td>0.010974</td>\n",
       "      <td>2.312234e-03</td>\n",
       "      <td>1.910594e-03</td>\n",
       "      <td>2.218371e-03</td>\n",
       "      <td>3.778050e-04</td>\n",
       "      <td>1.691873e-07</td>\n",
       "      <td>0.002631</td>\n",
       "    </tr>\n",
       "    <tr>\n",
       "      <th>2</th>\n",
       "      <td>428d70bb.wav</td>\n",
       "      <td>0.000050</td>\n",
       "      <td>4.092891e-03</td>\n",
       "      <td>1.137909e-05</td>\n",
       "      <td>5.009129e-05</td>\n",
       "      <td>1.903067e-03</td>\n",
       "      <td>1.740558e-06</td>\n",
       "      <td>1.038564e-06</td>\n",
       "      <td>0.000167</td>\n",
       "      <td>1.267197e-06</td>\n",
       "      <td>...</td>\n",
       "      <td>4.225831e-03</td>\n",
       "      <td>0.007728</td>\n",
       "      <td>7.394262e-07</td>\n",
       "      <td>0.000977</td>\n",
       "      <td>1.456973e-05</td>\n",
       "      <td>1.357567e-03</td>\n",
       "      <td>1.123939e-03</td>\n",
       "      <td>1.524338e-05</td>\n",
       "      <td>2.027515e-03</td>\n",
       "      <td>0.007558</td>\n",
       "    </tr>\n",
       "    <tr>\n",
       "      <th>3</th>\n",
       "      <td>4292b1c9.wav</td>\n",
       "      <td>0.001590</td>\n",
       "      <td>5.938087e-08</td>\n",
       "      <td>4.496005e-06</td>\n",
       "      <td>6.687911e-03</td>\n",
       "      <td>2.155485e-04</td>\n",
       "      <td>8.935886e-06</td>\n",
       "      <td>6.624517e-06</td>\n",
       "      <td>0.010924</td>\n",
       "      <td>1.237026e-04</td>\n",
       "      <td>...</td>\n",
       "      <td>8.625833e-03</td>\n",
       "      <td>0.011943</td>\n",
       "      <td>1.233812e-02</td>\n",
       "      <td>0.023169</td>\n",
       "      <td>5.021384e-03</td>\n",
       "      <td>4.836779e-03</td>\n",
       "      <td>5.391828e-04</td>\n",
       "      <td>5.300592e-04</td>\n",
       "      <td>1.698823e-06</td>\n",
       "      <td>0.025264</td>\n",
       "    </tr>\n",
       "    <tr>\n",
       "      <th>4</th>\n",
       "      <td>429c5071.wav</td>\n",
       "      <td>0.000008</td>\n",
       "      <td>6.347550e-10</td>\n",
       "      <td>2.395586e-03</td>\n",
       "      <td>1.288066e-07</td>\n",
       "      <td>5.611943e-07</td>\n",
       "      <td>5.147114e-01</td>\n",
       "      <td>6.925541e-02</td>\n",
       "      <td>0.000030</td>\n",
       "      <td>7.022921e-07</td>\n",
       "      <td>...</td>\n",
       "      <td>1.656412e-04</td>\n",
       "      <td>0.000242</td>\n",
       "      <td>2.789918e-07</td>\n",
       "      <td>0.006675</td>\n",
       "      <td>4.632533e-07</td>\n",
       "      <td>5.168160e-07</td>\n",
       "      <td>1.348582e-04</td>\n",
       "      <td>1.728072e-04</td>\n",
       "      <td>2.978768e-07</td>\n",
       "      <td>0.000593</td>\n",
       "    </tr>\n",
       "    <tr>\n",
       "      <th>...</th>\n",
       "      <td>...</td>\n",
       "      <td>...</td>\n",
       "      <td>...</td>\n",
       "      <td>...</td>\n",
       "      <td>...</td>\n",
       "      <td>...</td>\n",
       "      <td>...</td>\n",
       "      <td>...</td>\n",
       "      <td>...</td>\n",
       "      <td>...</td>\n",
       "      <td>...</td>\n",
       "      <td>...</td>\n",
       "      <td>...</td>\n",
       "      <td>...</td>\n",
       "      <td>...</td>\n",
       "      <td>...</td>\n",
       "      <td>...</td>\n",
       "      <td>...</td>\n",
       "      <td>...</td>\n",
       "      <td>...</td>\n",
       "      <td>...</td>\n",
       "    </tr>\n",
       "    <tr>\n",
       "      <th>3356</th>\n",
       "      <td>ffd7e42d.wav</td>\n",
       "      <td>0.000009</td>\n",
       "      <td>2.442875e-10</td>\n",
       "      <td>1.184442e-03</td>\n",
       "      <td>1.297960e-07</td>\n",
       "      <td>5.016209e-05</td>\n",
       "      <td>3.875999e-01</td>\n",
       "      <td>7.835536e-05</td>\n",
       "      <td>0.000037</td>\n",
       "      <td>1.103401e-06</td>\n",
       "      <td>...</td>\n",
       "      <td>1.353645e-07</td>\n",
       "      <td>0.000279</td>\n",
       "      <td>6.817984e-07</td>\n",
       "      <td>0.036086</td>\n",
       "      <td>4.517912e-05</td>\n",
       "      <td>2.513803e-05</td>\n",
       "      <td>1.541059e-03</td>\n",
       "      <td>1.092578e-02</td>\n",
       "      <td>3.816283e-08</td>\n",
       "      <td>0.000985</td>\n",
       "    </tr>\n",
       "    <tr>\n",
       "      <th>3357</th>\n",
       "      <td>ffddb54a.wav</td>\n",
       "      <td>0.000032</td>\n",
       "      <td>3.355261e-05</td>\n",
       "      <td>1.204832e-04</td>\n",
       "      <td>5.267035e-05</td>\n",
       "      <td>2.498719e-04</td>\n",
       "      <td>2.483214e-05</td>\n",
       "      <td>1.013564e-04</td>\n",
       "      <td>0.003449</td>\n",
       "      <td>1.250267e-03</td>\n",
       "      <td>...</td>\n",
       "      <td>9.388644e-05</td>\n",
       "      <td>0.003743</td>\n",
       "      <td>5.077416e-04</td>\n",
       "      <td>0.020029</td>\n",
       "      <td>2.801746e-04</td>\n",
       "      <td>1.769881e-05</td>\n",
       "      <td>4.805933e-02</td>\n",
       "      <td>1.176421e-03</td>\n",
       "      <td>1.650646e-04</td>\n",
       "      <td>0.004458</td>\n",
       "    </tr>\n",
       "    <tr>\n",
       "      <th>3358</th>\n",
       "      <td>ffe097a2.wav</td>\n",
       "      <td>0.013776</td>\n",
       "      <td>1.203700e-01</td>\n",
       "      <td>9.952042e-14</td>\n",
       "      <td>5.687898e-02</td>\n",
       "      <td>3.664083e-07</td>\n",
       "      <td>1.011918e-10</td>\n",
       "      <td>4.294623e-10</td>\n",
       "      <td>0.000002</td>\n",
       "      <td>5.707799e-10</td>\n",
       "      <td>...</td>\n",
       "      <td>2.279273e-07</td>\n",
       "      <td>0.030566</td>\n",
       "      <td>3.378216e-08</td>\n",
       "      <td>0.000018</td>\n",
       "      <td>9.735518e-09</td>\n",
       "      <td>1.739788e-05</td>\n",
       "      <td>6.706662e-07</td>\n",
       "      <td>1.606328e-08</td>\n",
       "      <td>2.174023e-03</td>\n",
       "      <td>0.004341</td>\n",
       "    </tr>\n",
       "    <tr>\n",
       "      <th>3359</th>\n",
       "      <td>ffea3427.wav</td>\n",
       "      <td>0.193835</td>\n",
       "      <td>1.615646e-02</td>\n",
       "      <td>2.494015e-01</td>\n",
       "      <td>4.772525e-04</td>\n",
       "      <td>7.449488e-04</td>\n",
       "      <td>6.364358e-05</td>\n",
       "      <td>2.657685e-02</td>\n",
       "      <td>0.000313</td>\n",
       "      <td>6.522652e-07</td>\n",
       "      <td>...</td>\n",
       "      <td>6.789910e-03</td>\n",
       "      <td>0.014258</td>\n",
       "      <td>1.259410e-06</td>\n",
       "      <td>0.004305</td>\n",
       "      <td>7.886633e-04</td>\n",
       "      <td>2.504212e-02</td>\n",
       "      <td>1.500193e-03</td>\n",
       "      <td>3.118885e-06</td>\n",
       "      <td>4.138462e-04</td>\n",
       "      <td>0.002881</td>\n",
       "    </tr>\n",
       "    <tr>\n",
       "      <th>3360</th>\n",
       "      <td>fffe2876.wav</td>\n",
       "      <td>0.000599</td>\n",
       "      <td>3.953154e-04</td>\n",
       "      <td>3.760832e-06</td>\n",
       "      <td>1.226850e-04</td>\n",
       "      <td>1.534654e-03</td>\n",
       "      <td>6.002217e-05</td>\n",
       "      <td>1.081464e-06</td>\n",
       "      <td>0.000482</td>\n",
       "      <td>2.061790e-07</td>\n",
       "      <td>...</td>\n",
       "      <td>6.762951e-03</td>\n",
       "      <td>0.082173</td>\n",
       "      <td>1.134204e-06</td>\n",
       "      <td>0.004111</td>\n",
       "      <td>1.398265e-04</td>\n",
       "      <td>8.671841e-03</td>\n",
       "      <td>1.675759e-03</td>\n",
       "      <td>1.515051e-04</td>\n",
       "      <td>2.928983e-04</td>\n",
       "      <td>0.015692</td>\n",
       "    </tr>\n",
       "  </tbody>\n",
       "</table>\n",
       "<p>3361 rows × 81 columns</p>\n",
       "</div>"
      ],
      "text/plain": [
       "             fname  Accelerating_and_revving_and_vroom     Accordion  \\\n",
       "0     4260ebea.wav                            0.000005  1.301591e-07   \n",
       "1     426eb1e0.wav                            0.000002  1.219258e-10   \n",
       "2     428d70bb.wav                            0.000050  4.092891e-03   \n",
       "3     4292b1c9.wav                            0.001590  5.938087e-08   \n",
       "4     429c5071.wav                            0.000008  6.347550e-10   \n",
       "...            ...                                 ...           ...   \n",
       "3356  ffd7e42d.wav                            0.000009  2.442875e-10   \n",
       "3357  ffddb54a.wav                            0.000032  3.355261e-05   \n",
       "3358  ffe097a2.wav                            0.013776  1.203700e-01   \n",
       "3359  ffea3427.wav                            0.193835  1.615646e-02   \n",
       "3360  fffe2876.wav                            0.000599  3.953154e-04   \n",
       "\n",
       "      Acoustic_guitar      Applause          Bark     Bass_drum   Bass_guitar  \\\n",
       "0        1.445290e-05  4.680021e-06  1.005791e-03  1.792622e-03  1.090335e-07   \n",
       "1        2.556864e-08  1.037996e-01  5.231419e-05  4.675826e-08  3.947943e-09   \n",
       "2        1.137909e-05  5.009129e-05  1.903067e-03  1.740558e-06  1.038564e-06   \n",
       "3        4.496005e-06  6.687911e-03  2.155485e-04  8.935886e-06  6.624517e-06   \n",
       "4        2.395586e-03  1.288066e-07  5.611943e-07  5.147114e-01  6.925541e-02   \n",
       "...               ...           ...           ...           ...           ...   \n",
       "3356     1.184442e-03  1.297960e-07  5.016209e-05  3.875999e-01  7.835536e-05   \n",
       "3357     1.204832e-04  5.267035e-05  2.498719e-04  2.483214e-05  1.013564e-04   \n",
       "3358     9.952042e-14  5.687898e-02  3.664083e-07  1.011918e-10  4.294623e-10   \n",
       "3359     2.494015e-01  4.772525e-04  7.449488e-04  6.364358e-05  2.657685e-02   \n",
       "3360     3.760832e-06  1.226850e-04  1.534654e-03  6.002217e-05  1.081464e-06   \n",
       "\n",
       "      Bathtub_(filling_or_washing)  Bicycle_bell  ...  Toilet_flush  \\\n",
       "0                         0.024973  1.254646e-04  ...  3.148988e-04   \n",
       "1                         0.015704  2.240260e-03  ...  4.306084e-04   \n",
       "2                         0.000167  1.267197e-06  ...  4.225831e-03   \n",
       "3                         0.010924  1.237026e-04  ...  8.625833e-03   \n",
       "4                         0.000030  7.022921e-07  ...  1.656412e-04   \n",
       "...                            ...           ...  ...           ...   \n",
       "3356                      0.000037  1.103401e-06  ...  1.353645e-07   \n",
       "3357                      0.003449  1.250267e-03  ...  9.388644e-05   \n",
       "3358                      0.000002  5.707799e-10  ...  2.279273e-07   \n",
       "3359                      0.000313  6.522652e-07  ...  6.789910e-03   \n",
       "3360                      0.000482  2.061790e-07  ...  6.762951e-03   \n",
       "\n",
       "      Traffic_noise_and_roadway_noise  Trickle_and_dribble  \\\n",
       "0                            0.001114         1.757385e-04   \n",
       "1                            0.000375         6.293600e-02   \n",
       "2                            0.007728         7.394262e-07   \n",
       "3                            0.011943         1.233812e-02   \n",
       "4                            0.000242         2.789918e-07   \n",
       "...                               ...                  ...   \n",
       "3356                         0.000279         6.817984e-07   \n",
       "3357                         0.003743         5.077416e-04   \n",
       "3358                         0.030566         3.378216e-08   \n",
       "3359                         0.014258         1.259410e-06   \n",
       "3360                         0.082173         1.134204e-06   \n",
       "\n",
       "      Walk_and_footsteps  Water_tap_and_faucet  Waves_and_surf    Whispering  \\\n",
       "0               0.013488          1.961741e-02    5.331765e-04  3.131244e-03   \n",
       "1               0.010974          2.312234e-03    1.910594e-03  2.218371e-03   \n",
       "2               0.000977          1.456973e-05    1.357567e-03  1.123939e-03   \n",
       "3               0.023169          5.021384e-03    4.836779e-03  5.391828e-04   \n",
       "4               0.006675          4.632533e-07    5.168160e-07  1.348582e-04   \n",
       "...                  ...                   ...             ...           ...   \n",
       "3356            0.036086          4.517912e-05    2.513803e-05  1.541059e-03   \n",
       "3357            0.020029          2.801746e-04    1.769881e-05  4.805933e-02   \n",
       "3358            0.000018          9.735518e-09    1.739788e-05  6.706662e-07   \n",
       "3359            0.004305          7.886633e-04    2.504212e-02  1.500193e-03   \n",
       "3360            0.004111          1.398265e-04    8.671841e-03  1.675759e-03   \n",
       "\n",
       "           Writing          Yell  Zipper_(clothing)  \n",
       "0     2.350447e-02  7.632723e-06           0.015852  \n",
       "1     3.778050e-04  1.691873e-07           0.002631  \n",
       "2     1.524338e-05  2.027515e-03           0.007558  \n",
       "3     5.300592e-04  1.698823e-06           0.025264  \n",
       "4     1.728072e-04  2.978768e-07           0.000593  \n",
       "...            ...           ...                ...  \n",
       "3356  1.092578e-02  3.816283e-08           0.000985  \n",
       "3357  1.176421e-03  1.650646e-04           0.004458  \n",
       "3358  1.606328e-08  2.174023e-03           0.004341  \n",
       "3359  3.118885e-06  4.138462e-04           0.002881  \n",
       "3360  1.515051e-04  2.928983e-04           0.015692  \n",
       "\n",
       "[3361 rows x 81 columns]"
      ]
     },
     "execution_count": 16,
     "metadata": {},
     "output_type": "execute_result"
    }
   ],
   "source": [
    "df_test.iloc[:, 1:] = predictions_test\n",
    "df_test"
   ]
  },
  {
   "cell_type": "markdown",
   "metadata": {},
   "source": [
    "### Test results"
   ]
  },
  {
   "attachments": {
    "final_score.PNG": {
     "image/png": "[encoded data removed]"
    }
   },
   "cell_type": "markdown",
   "metadata": {},
   "source": [
    "![final_score.PNG](attachment:final_score.PNG)"
   ]
  },
  {
   "cell_type": "markdown",
   "metadata": {},
   "source": [
    "### Observation:\n",
    "Train LWLRAP: 0.546 <br>\n",
    "Validation LWLRAP: 0.492 <br>\n",
    "Test LWLRAP: 0.368 <br><br>"
   ]
  },
  {
   "cell_type": "markdown",
   "metadata": {},
   "source": [
    "### Conclusion:\n",
    "The testing LWLRAP is significantly better than the baseline model's LWLRAP which means the model has decent prediction power. However, it is slighly lower than the train and validation LWLRAP, this could be due to test set differing from the curated training dataset."
   ]
  },
  {
   "cell_type": "markdown",
   "metadata": {},
   "source": [
    "## Model 2: CNN 2-D (Mel Frequency features)"
   ]
  },
  {
   "cell_type": "markdown",
   "metadata": {},
   "source": [
    "### Train Cross Validation Split\n",
    "We perform a 75-25 train cross validate split which is not random, but, stratified such that both train and validation dataset contain approximately the same distribution of number of labels per clip"
   ]
  },
  {
   "cell_type": "code",
   "execution_count": 2,
   "metadata": {},
   "outputs": [],
   "source": [
    "ALL_FILES_DIRECTORY = r'all_data/'\n",
    "TRAIN_FILES_DIRECTORY = r'train_data/'\n",
    "VAL_FILES_DIRECTORY = r'val_data/'\n",
    "\n",
    "train_csv_path = r'df_train.csv'\n",
    "val_csv_path   = r'df_val.csv'\n",
    "class_map_path = r'class_map.csv'"
   ]
  },
  {
   "cell_type": "code",
   "execution_count": 3,
   "metadata": {},
   "outputs": [],
   "source": [
    "def count_labels(label_string):\n",
    "    '''\n",
    "    Descrption -> Returns the total count of labels in the given comma separated label_string\n",
    "    Input -> String containing all the labels corr. the clip in CSV format (\"label1,label2,label3\")\n",
    "    Output -> Number of unique labels in the label_string (eg. 3)\n",
    "    '''\n",
    "    return len(label_string.split(','))"
   ]
  },
  {
   "cell_type": "code",
   "execution_count": 4,
   "metadata": {},
   "outputs": [],
   "source": [
    "df_combined = pd.read_csv(r'train_curated.csv')\n",
    "df_combined['label_count'] = df_combined['labels'].apply(count_labels)"
   ]
  },
  {
   "cell_type": "code",
   "execution_count": 10,
   "metadata": {},
   "outputs": [
    {
     "data": {
      "text/plain": [
       "1    4269\n",
       "2     627\n",
       "3      69\n",
       "4       4\n",
       "6       1\n",
       "Name: label_count, dtype: int64"
      ]
     },
     "execution_count": 10,
     "metadata": {},
     "output_type": "execute_result"
    }
   ],
   "source": [
    "df_combined['label_count'].value_counts()"
   ]
  },
  {
   "cell_type": "code",
   "execution_count": 12,
   "metadata": {},
   "outputs": [],
   "source": [
    "# There is only one point with 6 labels which can be considered as an outlier hence we delete the corresponding clip\n",
    "fname_to_be_deleted = (df_combined[df_combined['label_count'] == 6]['fname']).values[0]\n",
    "fname_path = ALL_DATA + fname_to_be_deleted\n",
    "os.remove(fname_path)\n",
    "df_combined = df_combined[df_combined['label_count'] < 6]\n",
    "y_count=np.array(df_combined['label_count'])\n",
    "df_train, df_val = train_test_split(df_combined, stratify=y_count, test_size=0.25, random_state=21)"
   ]
  },
  {
   "cell_type": "code",
   "execution_count": 16,
   "metadata": {},
   "outputs": [
    {
     "data": {
      "text/plain": [
       "1    85.912658\n",
       "2    12.618233\n",
       "3     1.388609\n",
       "4     0.080499\n",
       "Name: label_count, dtype: float64"
      ]
     },
     "execution_count": 16,
     "metadata": {},
     "output_type": "execute_result"
    }
   ],
   "source": [
    "df_combined['label_count'].value_counts()/(sum(df_combined['label_count'].value_counts().values))*100"
   ]
  },
  {
   "cell_type": "code",
   "execution_count": 17,
   "metadata": {},
   "outputs": [
    {
     "data": {
      "text/plain": [
       "1    85.909823\n",
       "2    12.614063\n",
       "3     1.395598\n",
       "4     0.080515\n",
       "Name: label_count, dtype: float64"
      ]
     },
     "execution_count": 17,
     "metadata": {},
     "output_type": "execute_result"
    }
   ],
   "source": [
    "df_train['label_count'].value_counts()/(sum(df_train['label_count'].value_counts().values))*100"
   ]
  },
  {
   "cell_type": "code",
   "execution_count": 18,
   "metadata": {},
   "outputs": [
    {
     "data": {
      "text/plain": [
       "1    85.921158\n",
       "2    12.630732\n",
       "3     1.367659\n",
       "4     0.080451\n",
       "Name: label_count, dtype: float64"
      ]
     },
     "execution_count": 18,
     "metadata": {},
     "output_type": "execute_result"
    }
   ],
   "source": [
    "df_val['label_count'].value_counts()/(sum(df_val['label_count'].value_counts().values))*100"
   ]
  },
  {
   "cell_type": "markdown",
   "metadata": {},
   "source": [
    "#### We observe that both the training and validation dataframes have the same distribution of label counts"
   ]
  },
  {
   "cell_type": "code",
   "execution_count": 19,
   "metadata": {},
   "outputs": [],
   "source": [
    "# Keeping only the original columns and dropping the newly added 'label_count' column\n",
    "df_train=df_train[['fname', 'labels']]\n",
    "df_train.to_csv('df_train.csv', index=False)\n",
    "df_val=df_val[['fname', 'labels']]\n",
    "df_val.to_csv('df_val.csv', index=False)"
   ]
  },
  {
   "cell_type": "code",
   "execution_count": 21,
   "metadata": {},
   "outputs": [],
   "source": [
    "# Moving the .wav files present in df_val to the VAL_FILES_DIRECTORY\n",
    "df_val_filenames = set(df_val['fname'])\n",
    "all_files = os.listdir(ALL_FILES_DIRECTORY)\n",
    "for file in all_files:\n",
    "    if file in df_val_filenames:\n",
    "        src_path = os.path.join(ALL_FILES_DIRECTORY, file)\n",
    "        dst_path = os.path.join(VAL_FILES_DIRECTORY, file)\n",
    "        shutil.move(src_path, dst_path)\n",
    "os.rename(ALL_FILES_DIRECTORY, TRAIN_FILES_DIRECTORY)"
   ]
  },
  {
   "cell_type": "code",
   "execution_count": 22,
   "metadata": {},
   "outputs": [],
   "source": [
    "# Config class is used to share global parameters across various functions\n",
    "class Config():\n",
    "    def __init__(self, sampling_rate, n_classes=80):\n",
    "        self.sampling_rate=sampling_rate\n",
    "        self.n_classes=n_classes\n",
    "        self.stft_window_seconds=0.025\n",
    "        self.stft_hop_seconds=0.010\n",
    "        self.mel_bands=96\n",
    "        self.mel_min_hz=20\n",
    "        self.mel_max_hz=20000\n",
    "        self.mel_log_offset=0.001\n",
    "        self.example_window_seconds=1.0\n",
    "        self.example_hop_seconds=0.5"
   ]
  },
  {
   "cell_type": "code",
   "execution_count": 23,
   "metadata": {},
   "outputs": [],
   "source": [
    "# All input clips use a 44.1 kHz sample rate.\n",
    "SAMPLE_RATE = 44100\n",
    "config = Config(SAMPLE_RATE)"
   ]
  },
  {
   "cell_type": "markdown",
   "metadata": {},
   "source": [
    "### Input Pipeline (creation of train and validation datasets)"
   ]
  },
  {
   "cell_type": "markdown",
   "metadata": {},
   "source": [
    "Inspiration for the below featurizations has been taken from the research paper: https://arxiv.org/pdf/1906.02975v4.pdf"
   ]
  },
  {
   "cell_type": "code",
   "execution_count": 24,
   "metadata": {},
   "outputs": [],
   "source": [
    "def clip_to_waveform(clip, clip_dir=None):\n",
    "    \"\"\"\n",
    "    Description -> Decodes a WAV clip into a waveform tensor where the values lie in [-1, +1]\n",
    "    Inputs->\n",
    "        clip -> .wav file eg. file1.wav\n",
    "        clip_dir -> Parent folder in which the above clips is stored, for eg., \"TRAIN_DIR\"\n",
    "    Output -> Tensor corrsponding to the clip with all values between -1 to 1\n",
    "    \"\"\"\n",
    "    clip_path = tf.strings.join([clip_dir, clip], separator=os.sep)\n",
    "    clip_data = tf.io.read_file(clip_path)\n",
    "    waveform, sr = tf.audio.decode_wav(clip_data)\n",
    "    return tf.squeeze(waveform)\n",
    "\n",
    "def clip_to_log_mel_examples(clip, clip_dir=None):\n",
    "    \"\"\"\n",
    "    Description -> Decodes a WAV clip into a batch of log mel spectrum examples\n",
    "    This function takes the given .wav file, gets it tensor representation, converts it into spectrogram using short-time\n",
    "    Fourier transform, then converts the spectrogram into log mel spectrogram, finally, it divides it into various windows\n",
    "    and returns all the windows in a 3-channel format\n",
    "    \n",
    "    Inputs->\n",
    "        clip -> .wav file eg. file1.wav\n",
    "        clip_dir -> Parent folder in which the above clips is stored, for eg., \"TRAIN_DIR\"\n",
    "        \n",
    "    Output -> Log mel spectrogram windowed features\n",
    "    \"\"\"\n",
    "    # Decode WAV clip into waveform tensor.\n",
    "    waveform = clip_to_waveform(clip, clip_dir=clip_dir)\n",
    "\n",
    "    # Convert waveform into spectrogram using a Short-Time Fourier Transform.\n",
    "    # Note that tf.signal.stft() uses a periodic Hann window by default.\n",
    "    window_length_samples = int(round(config.sampling_rate * config.stft_window_seconds))\n",
    "    hop_length_samples = int(round(config.sampling_rate * config.stft_hop_seconds))\n",
    "    fft_length = 2 ** int(np.ceil(np.log2(window_length_samples)))\n",
    "    \n",
    "    magnitude_spectrogram = tf.math.abs(tf.signal.stft(signals=waveform,\n",
    "                                                       frame_length=window_length_samples,\n",
    "                                                       frame_step=hop_length_samples,\n",
    "                                                       fft_length=fft_length))\n",
    "\n",
    "    # Convert spectrogram into log mel spectrogram.\n",
    "    num_spectrogram_bins = fft_length // 2 + 1\n",
    "    linear_to_mel_weight_matrix = tf.signal.linear_to_mel_weight_matrix(num_mel_bins=config.mel_bands,\n",
    "                                                                        num_spectrogram_bins=num_spectrogram_bins,\n",
    "                                                                        sample_rate=config.sampling_rate,\n",
    "                                                                        lower_edge_hertz=config.mel_min_hz,\n",
    "                                                                        upper_edge_hertz=config.mel_max_hz)\n",
    "    mel_spectrogram = tf.matmul(magnitude_spectrogram, linear_to_mel_weight_matrix)\n",
    "    log_mel_spectrogram = tf.math.log(mel_spectrogram + config.mel_log_offset)\n",
    "\n",
    "    # Frame log mel spectrogram into examples.\n",
    "    spectrogram_sr = 1 / config.stft_hop_seconds\n",
    "    example_window_length_samples = int(round(spectrogram_sr * config.example_window_seconds))\n",
    "    example_hop_length_samples = int(round(spectrogram_sr * config.example_hop_seconds))\n",
    "    features = tf.signal.frame(signal=log_mel_spectrogram,\n",
    "                               frame_length=example_window_length_samples,\n",
    "                               frame_step=example_hop_length_samples,\n",
    "                               pad_end=True,\n",
    "                               pad_value=0.0,\n",
    "                               axis=0)\n",
    "    \n",
    "    # Converting mono channel to 3 channels\n",
    "    features=tf.stack([features,features,features], axis=-1)\n",
    "    return features\n",
    "\n",
    "def record_to_labeled_log_mel_examples(csv_record,\n",
    "                                       clip_dir=None,\n",
    "                                       label_class_index_table=None,\n",
    "                                       num_classes=None):\n",
    "    \"\"\"\n",
    "    Description -> Creates a batch of log mel spectrum examples from a training record.\n",
    "\n",
    "    Inputs ->\n",
    "    csv_record: a line from a training CSV file downloaded from Kaggle\n",
    "    clip_dir: path to a directory containing clips referenced by csv_record\n",
    "    label_class_index_table: a lookup table that represents the class map\n",
    "    num_classes: number of classes in the class map\n",
    "\n",
    "    Output ->\n",
    "    features: Tensor containing a batch of log mel spectrum examples\n",
    "    labels: Tensor containing corresponding labels in 1-hot format\n",
    "    \n",
    "    \"\"\"\n",
    "    # clip is the filename such as \"filename1.wav\"\n",
    "    # labels_str is the string of all labels corresponding to that filename eg., \"bike,vroom,accelarate\"\n",
    "    [clip, labels_str] = tf.io.decode_csv(csv_record, record_defaults=[[''],['']])\n",
    "    \n",
    "    # features are the windowed log mel spectrogram examples\n",
    "    features = clip_to_log_mel_examples(clip, clip_dir=clip_dir)\n",
    "    \n",
    "    # num_examples are the total number of windows\n",
    "    num_examples = tf.shape(features)[0]\n",
    "    \n",
    "    # We split all the labels by comma\n",
    "    clip_labels = tf.strings.split([labels_str], sep=',').values\n",
    "    \n",
    "    # Obtain the corresponding indices from the lookup table\n",
    "    class_indices = label_class_index_table.lookup(clip_labels)\n",
    "    \n",
    "    # One Hot Encode the class_indices\n",
    "    label_onehots = tf.one_hot(indices=class_indices, depth=num_classes)\n",
    "    label_multihot = tf.math.reduce_max(label_onehots, axis=[0], keepdims=False)\n",
    "    \n",
    "    # Adjust the dimensionality of the OHE labels\n",
    "    labels = tf.tile([label_multihot], [num_examples, 1])\n",
    "\n",
    "    return features, labels\n",
    "\n",
    "def get_class_map(class_map_path):\n",
    "    \"\"\"\n",
    "    Description -> Constructs a class label lookup table from a class map\n",
    "    \n",
    "    Input ->\n",
    "    class_map_path: Path to the class_map.csv file which contains the mapping of each unqiue class label to an integer from 0-79\n",
    "    \n",
    "    Output ->\n",
    "    label_class_index_table: Lookup table mapping each class label to a unique integer\n",
    "    num_classes: Total number of unique classes\n",
    "    \"\"\"\n",
    "    label_class_index_table = tf.lookup.StaticHashTable(tf.lookup.TextFileInitializer(filename=class_map_path,\n",
    "                                                                                      key_dtype=tf.string,\n",
    "                                                                                      key_index=1,\n",
    "                                                                                      value_dtype=tf.int32,\n",
    "                                                                                      value_index=0,\n",
    "                                                                                      delimiter=','),\n",
    "                                                        default_value=-1)\n",
    "    num_classes = len(open(class_map_path).readlines())\n",
    "    return label_class_index_table, num_classes"
   ]
  },
  {
   "cell_type": "code",
   "execution_count": 25,
   "metadata": {},
   "outputs": [],
   "source": [
    "# Get the lookup table\n",
    "label_class_index_table, num_classes = get_class_map(class_map_path)\n",
    "\n",
    "# Read the filename and corr. class labels from input csv files\n",
    "train_dataset = tf.data.TextLineDataset(train_csv_path)\n",
    "# Skip the header row\n",
    "train_dataset = train_dataset.skip(1)\n",
    "\n",
    "val_dataset = tf.data.TextLineDataset(val_csv_path)\n",
    "val_dataset = val_dataset.skip(1)"
   ]
  },
  {
   "cell_type": "code",
   "execution_count": 26,
   "metadata": {},
   "outputs": [],
   "source": [
    "AUTOTUNE = tf.data.experimental.AUTOTUNE\n",
    "\n",
    "train_dataset = train_dataset.map(lambda x: record_to_labeled_log_mel_examples(x,\n",
    "                                                                               clip_dir=TRAIN_FILES_DIRECTORY,\n",
    "                                                                               label_class_index_table=label_class_index_table,\n",
    "                                                                               num_classes=num_classes),\n",
    "                                  num_parallel_calls=AUTOTUNE)\n",
    "\n",
    "val_dataset = val_dataset.map(lambda x: record_to_labeled_log_mel_examples(x,\n",
    "                                                                           clip_dir=VAL_FILES_DIRECTORY,\n",
    "                                                                           label_class_index_table=label_class_index_table,\n",
    "                                                                           num_classes=num_classes),\n",
    "                              num_parallel_calls=AUTOTUNE)"
   ]
  },
  {
   "cell_type": "code",
   "execution_count": 22,
   "metadata": {
    "execution": {
     "iopub.execute_input": "2020-12-10T15:09:18.758311Z",
     "iopub.status.busy": "2020-12-10T15:09:18.757446Z",
     "iopub.status.idle": "2020-12-10T15:09:20.700877Z",
     "shell.execute_reply": "2020-12-10T15:09:20.701728Z"
    },
    "papermill": {
     "duration": 1.98396,
     "end_time": "2020-12-10T15:09:20.701865",
     "exception": false,
     "start_time": "2020-12-10T15:09:18.717905",
     "status": "completed"
    },
    "tags": []
   },
   "outputs": [
    {
     "name": "stdout",
     "output_type": "stream",
     "text": [
      "Shape of data =  tf.Tensor([ 60 100  96   3], shape=(4,), dtype=int32)\n",
      "Shape of class label =  tf.Tensor([60 80], shape=(2,), dtype=int32)\n",
      "\n",
      "Shape of data =  tf.Tensor([ 34 100  96   3], shape=(4,), dtype=int32)\n",
      "Shape of class label =  tf.Tensor([34 80], shape=(2,), dtype=int32)\n",
      "\n",
      "Shape of data =  tf.Tensor([ 36 100  96   3], shape=(4,), dtype=int32)\n",
      "Shape of class label =  tf.Tensor([36 80], shape=(2,), dtype=int32)\n",
      "\n"
     ]
    }
   ],
   "source": [
    "c=0\n",
    "for i in train_dataset:\n",
    "    print(\"Shape of data = \", tf.shape(i[0]))\n",
    "    print(\"Shape of class label = \", tf.shape(i[1]))\n",
    "    print()\n",
    "    c+=1\n",
    "    if c==3: break"
   ]
  },
  {
   "cell_type": "markdown",
   "metadata": {},
   "source": [
    "The current train_dataset consists of tensors of shape:<br>\n",
    "(a1, 100, 96, 3)<br>\n",
    "(a2, 100, 96, 3)<br>\n",
    ".<br>\n",
    ".<br>\n",
    ".<br>\n",
    "<br>\n",
    "To train a model, we'll need a1=a2=..., so we unbatch all the frames and then again rebatch in batches of 64 so that we've a uniform shape of (64, 100, 96, 3) which we can provide as an input to the model"
   ]
  },
  {
   "cell_type": "code",
   "execution_count": 29,
   "metadata": {},
   "outputs": [],
   "source": [
    "# Unbatch all the examples and then again batch these to create uniform batches of size 64, load these into cache for faster\n",
    "# execution, shuffle these to ensure randomized inputs to each epoch and prefetch to ensure GPU is not idle\n",
    "batch_size = 64\n",
    "train_dataset=train_dataset.unbatch()\n",
    "train_dataset = train_dataset.batch(batch_size)\n",
    "train_dataset = train_dataset.cache().shuffle(buffer_size=905, seed=21).prefetch(AUTOTUNE)\n",
    "\n",
    "val_dataset=val_dataset.unbatch()\n",
    "val_dataset = val_dataset.batch(batch_size)\n",
    "val_dataset= val_dataset.cache().shuffle(buffer_size=325, seed=21).prefetch(AUTOTUNE)"
   ]
  },
  {
   "cell_type": "code",
   "execution_count": 25,
   "metadata": {
    "execution": {
     "iopub.execute_input": "2020-12-10T15:09:20.949749Z",
     "iopub.status.busy": "2020-12-10T15:09:20.948967Z",
     "iopub.status.idle": "2020-12-10T15:17:26.816653Z",
     "shell.execute_reply": "2020-12-10T15:17:26.817388Z"
    },
    "papermill": {
     "duration": 485.898454,
     "end_time": "2020-12-10T15:17:26.817583",
     "exception": false,
     "start_time": "2020-12-10T15:09:20.919129",
     "status": "completed"
    },
    "tags": []
   },
   "outputs": [
    {
     "name": "stdout",
     "output_type": "stream",
     "text": [
      "Shape of data =  tf.Tensor([ 64 100  96   3], shape=(4,), dtype=int32)\n",
      "Shape of class label =  tf.Tensor([64 80], shape=(2,), dtype=int32)\n",
      "Shape of data =  tf.Tensor([ 64 100  96   3], shape=(4,), dtype=int32)\n",
      "Shape of class label =  tf.Tensor([64 80], shape=(2,), dtype=int32)\n",
      "Shape of data =  tf.Tensor([ 64 100  96   3], shape=(4,), dtype=int32)\n",
      "Shape of class label =  tf.Tensor([64 80], shape=(2,), dtype=int32)\n"
     ]
    }
   ],
   "source": [
    "c=0\n",
    "for i in train_dataset:\n",
    "    if c==3: break\n",
    "    print(\"Shape of data = \", tf.shape(i[0]))\n",
    "    print(\"Shape of class label = \", tf.shape(i[1]))\n",
    "    c+=1"
   ]
  },
  {
   "cell_type": "code",
   "execution_count": 31,
   "metadata": {},
   "outputs": [],
   "source": [
    "# Creating TF Callbacks, tensorboard_callback is to monitor logs and checkpoint is to save model weights after every epoch\n",
    "log_dir = \"logs/fit/\" + datetime.datetime.now().strftime(\"%Y%m%d-%H%M%S\")\n",
    "\n",
    "tensorboard_callback = TensorBoard(log_dir=log_dir, histogram_freq=1)\n",
    "checkpoint = ModelCheckpoint(filepath='weights_{epoch}-loss_{loss:.4f}_lwlrap_{lwlrap:.4f}.h5',\n",
    "                             verbose=0, save_weights_only=True)\n",
    "\n",
    "callbacks_list = [checkpoint, tensorboard_callback]"
   ]
  },
  {
   "cell_type": "code",
   "execution_count": 32,
   "metadata": {},
   "outputs": [],
   "source": [
    "# The model used here is the MobileNet by Google\n",
    "# Ref: https://stackoverflow.com/questions/41668813/how-to-add-and-remove-new-layers-in-keras-after-loading-weights\n",
    "def get_2dcnn_model(weights_path=None):\n",
    "    '''\n",
    "    Description -> Return the 2D CNN Model\n",
    "    \n",
    "    Input ->\n",
    "    weights_path (optional): Path to the best model weights (used at testing time)\n",
    "    \n",
    "    Output -> Model instance\n",
    "    \n",
    "    It returns the compiled model which will be used for training if no \"weights_path\" is supplied, else, it returns the model\n",
    "    with best weights found during training which will be used during testing phase\n",
    "    '''\n",
    "    source_model = MobileNet(include_top=False, input_shape=(100, 96, 3))\n",
    "    x = Flatten()(source_model.layers[-1].output)\n",
    "    out = Dense(80)(x)\n",
    "    model = Model(inputs=source_model.input, outputs=out)\n",
    "    if not weights_path:\n",
    "        model.compile(optimizer='adam',\n",
    "                      loss=tf.nn.sigmoid_cross_entropy_with_logits,\n",
    "                      metrics=[LWLRAP(80)])\n",
    "    else:\n",
    "        model.load_weights(weights_path)\n",
    "        \n",
    "    return model"
   ]
  },
  {
   "cell_type": "code",
   "execution_count": 30,
   "metadata": {
    "execution": {
     "iopub.execute_input": "2020-12-10T15:17:27.493009Z",
     "iopub.status.busy": "2020-12-10T15:17:27.492451Z",
     "iopub.status.idle": "2020-12-10T15:17:29.164615Z",
     "shell.execute_reply": "2020-12-10T15:17:29.165845Z"
    },
    "papermill": {
     "duration": 1.705955,
     "end_time": "2020-12-10T15:17:29.166026",
     "exception": false,
     "start_time": "2020-12-10T15:17:27.460071",
     "status": "completed"
    },
    "tags": []
   },
   "outputs": [
    {
     "name": "stdout",
     "output_type": "stream",
     "text": [
      "Downloading data from https://storage.googleapis.com/tensorflow/keras-applications/mobilenet/mobilenet_1_0_224_tf_no_top.h5\n",
      "17227776/17225924 [==============================] - 0s 0us/step\n",
      "Model: \"functional_1\"\n",
      "_________________________________________________________________\n",
      "Layer (type)                 Output Shape              Param #   \n",
      "=================================================================\n",
      "input_1 (InputLayer)         [(None, 100, 96, 3)]      0         \n",
      "_________________________________________________________________\n",
      "conv1_pad (ZeroPadding2D)    (None, 101, 97, 3)        0         \n",
      "_________________________________________________________________\n",
      "conv1 (Conv2D)               (None, 50, 48, 32)        864       \n",
      "_________________________________________________________________\n",
      "conv1_bn (BatchNormalization (None, 50, 48, 32)        128       \n",
      "_________________________________________________________________\n",
      "conv1_relu (ReLU)            (None, 50, 48, 32)        0         \n",
      "_________________________________________________________________\n",
      "conv_dw_1 (DepthwiseConv2D)  (None, 50, 48, 32)        288       \n",
      "_________________________________________________________________\n",
      "conv_dw_1_bn (BatchNormaliza (None, 50, 48, 32)        128       \n",
      "_________________________________________________________________\n",
      "conv_dw_1_relu (ReLU)        (None, 50, 48, 32)        0         \n",
      "_________________________________________________________________\n",
      "conv_pw_1 (Conv2D)           (None, 50, 48, 64)        2048      \n",
      "_________________________________________________________________\n",
      "conv_pw_1_bn (BatchNormaliza (None, 50, 48, 64)        256       \n",
      "_________________________________________________________________\n",
      "conv_pw_1_relu (ReLU)        (None, 50, 48, 64)        0         \n",
      "_________________________________________________________________\n",
      "conv_pad_2 (ZeroPadding2D)   (None, 51, 49, 64)        0         \n",
      "_________________________________________________________________\n",
      "conv_dw_2 (DepthwiseConv2D)  (None, 25, 24, 64)        576       \n",
      "_________________________________________________________________\n",
      "conv_dw_2_bn (BatchNormaliza (None, 25, 24, 64)        256       \n",
      "_________________________________________________________________\n",
      "conv_dw_2_relu (ReLU)        (None, 25, 24, 64)        0         \n",
      "_________________________________________________________________\n",
      "conv_pw_2 (Conv2D)           (None, 25, 24, 128)       8192      \n",
      "_________________________________________________________________\n",
      "conv_pw_2_bn (BatchNormaliza (None, 25, 24, 128)       512       \n",
      "_________________________________________________________________\n",
      "conv_pw_2_relu (ReLU)        (None, 25, 24, 128)       0         \n",
      "_________________________________________________________________\n",
      "conv_dw_3 (DepthwiseConv2D)  (None, 25, 24, 128)       1152      \n",
      "_________________________________________________________________\n",
      "conv_dw_3_bn (BatchNormaliza (None, 25, 24, 128)       512       \n",
      "_________________________________________________________________\n",
      "conv_dw_3_relu (ReLU)        (None, 25, 24, 128)       0         \n",
      "_________________________________________________________________\n",
      "conv_pw_3 (Conv2D)           (None, 25, 24, 128)       16384     \n",
      "_________________________________________________________________\n",
      "conv_pw_3_bn (BatchNormaliza (None, 25, 24, 128)       512       \n",
      "_________________________________________________________________\n",
      "conv_pw_3_relu (ReLU)        (None, 25, 24, 128)       0         \n",
      "_________________________________________________________________\n",
      "conv_pad_4 (ZeroPadding2D)   (None, 26, 25, 128)       0         \n",
      "_________________________________________________________________\n",
      "conv_dw_4 (DepthwiseConv2D)  (None, 12, 12, 128)       1152      \n",
      "_________________________________________________________________\n",
      "conv_dw_4_bn (BatchNormaliza (None, 12, 12, 128)       512       \n",
      "_________________________________________________________________\n",
      "conv_dw_4_relu (ReLU)        (None, 12, 12, 128)       0         \n",
      "_________________________________________________________________\n",
      "conv_pw_4 (Conv2D)           (None, 12, 12, 256)       32768     \n",
      "_________________________________________________________________\n",
      "conv_pw_4_bn (BatchNormaliza (None, 12, 12, 256)       1024      \n",
      "_________________________________________________________________\n",
      "conv_pw_4_relu (ReLU)        (None, 12, 12, 256)       0         \n",
      "_________________________________________________________________\n",
      "conv_dw_5 (DepthwiseConv2D)  (None, 12, 12, 256)       2304      \n",
      "_________________________________________________________________\n",
      "conv_dw_5_bn (BatchNormaliza (None, 12, 12, 256)       1024      \n",
      "_________________________________________________________________\n",
      "conv_dw_5_relu (ReLU)        (None, 12, 12, 256)       0         \n",
      "_________________________________________________________________\n",
      "conv_pw_5 (Conv2D)           (None, 12, 12, 256)       65536     \n",
      "_________________________________________________________________\n",
      "conv_pw_5_bn (BatchNormaliza (None, 12, 12, 256)       1024      \n",
      "_________________________________________________________________\n",
      "conv_pw_5_relu (ReLU)        (None, 12, 12, 256)       0         \n",
      "_________________________________________________________________\n",
      "conv_pad_6 (ZeroPadding2D)   (None, 13, 13, 256)       0         \n",
      "_________________________________________________________________\n",
      "conv_dw_6 (DepthwiseConv2D)  (None, 6, 6, 256)         2304      \n",
      "_________________________________________________________________\n",
      "conv_dw_6_bn (BatchNormaliza (None, 6, 6, 256)         1024      \n",
      "_________________________________________________________________\n",
      "conv_dw_6_relu (ReLU)        (None, 6, 6, 256)         0         \n",
      "_________________________________________________________________\n",
      "conv_pw_6 (Conv2D)           (None, 6, 6, 512)         131072    \n",
      "_________________________________________________________________\n",
      "conv_pw_6_bn (BatchNormaliza (None, 6, 6, 512)         2048      \n",
      "_________________________________________________________________\n",
      "conv_pw_6_relu (ReLU)        (None, 6, 6, 512)         0         \n",
      "_________________________________________________________________\n",
      "conv_dw_7 (DepthwiseConv2D)  (None, 6, 6, 512)         4608      \n",
      "_________________________________________________________________\n",
      "conv_dw_7_bn (BatchNormaliza (None, 6, 6, 512)         2048      \n",
      "_________________________________________________________________\n",
      "conv_dw_7_relu (ReLU)        (None, 6, 6, 512)         0         \n",
      "_________________________________________________________________\n",
      "conv_pw_7 (Conv2D)           (None, 6, 6, 512)         262144    \n",
      "_________________________________________________________________\n",
      "conv_pw_7_bn (BatchNormaliza (None, 6, 6, 512)         2048      \n",
      "_________________________________________________________________\n",
      "conv_pw_7_relu (ReLU)        (None, 6, 6, 512)         0         \n",
      "_________________________________________________________________\n",
      "conv_dw_8 (DepthwiseConv2D)  (None, 6, 6, 512)         4608      \n",
      "_________________________________________________________________\n",
      "conv_dw_8_bn (BatchNormaliza (None, 6, 6, 512)         2048      \n",
      "_________________________________________________________________\n",
      "conv_dw_8_relu (ReLU)        (None, 6, 6, 512)         0         \n",
      "_________________________________________________________________\n",
      "conv_pw_8 (Conv2D)           (None, 6, 6, 512)         262144    \n",
      "_________________________________________________________________\n",
      "conv_pw_8_bn (BatchNormaliza (None, 6, 6, 512)         2048      \n",
      "_________________________________________________________________\n",
      "conv_pw_8_relu (ReLU)        (None, 6, 6, 512)         0         \n",
      "_________________________________________________________________\n",
      "conv_dw_9 (DepthwiseConv2D)  (None, 6, 6, 512)         4608      \n",
      "_________________________________________________________________\n",
      "conv_dw_9_bn (BatchNormaliza (None, 6, 6, 512)         2048      \n",
      "_________________________________________________________________\n",
      "conv_dw_9_relu (ReLU)        (None, 6, 6, 512)         0         \n",
      "_________________________________________________________________\n",
      "conv_pw_9 (Conv2D)           (None, 6, 6, 512)         262144    \n",
      "_________________________________________________________________\n",
      "conv_pw_9_bn (BatchNormaliza (None, 6, 6, 512)         2048      \n",
      "_________________________________________________________________\n",
      "conv_pw_9_relu (ReLU)        (None, 6, 6, 512)         0         \n",
      "_________________________________________________________________\n",
      "conv_dw_10 (DepthwiseConv2D) (None, 6, 6, 512)         4608      \n",
      "_________________________________________________________________\n",
      "conv_dw_10_bn (BatchNormaliz (None, 6, 6, 512)         2048      \n",
      "_________________________________________________________________\n",
      "conv_dw_10_relu (ReLU)       (None, 6, 6, 512)         0         \n",
      "_________________________________________________________________\n",
      "conv_pw_10 (Conv2D)          (None, 6, 6, 512)         262144    \n",
      "_________________________________________________________________\n",
      "conv_pw_10_bn (BatchNormaliz (None, 6, 6, 512)         2048      \n",
      "_________________________________________________________________\n",
      "conv_pw_10_relu (ReLU)       (None, 6, 6, 512)         0         \n",
      "_________________________________________________________________\n",
      "conv_dw_11 (DepthwiseConv2D) (None, 6, 6, 512)         4608      \n",
      "_________________________________________________________________\n",
      "conv_dw_11_bn (BatchNormaliz (None, 6, 6, 512)         2048      \n",
      "_________________________________________________________________\n",
      "conv_dw_11_relu (ReLU)       (None, 6, 6, 512)         0         \n",
      "_________________________________________________________________\n",
      "conv_pw_11 (Conv2D)          (None, 6, 6, 512)         262144    \n",
      "_________________________________________________________________\n",
      "conv_pw_11_bn (BatchNormaliz (None, 6, 6, 512)         2048      \n",
      "_________________________________________________________________\n",
      "conv_pw_11_relu (ReLU)       (None, 6, 6, 512)         0         \n",
      "_________________________________________________________________\n",
      "conv_pad_12 (ZeroPadding2D)  (None, 7, 7, 512)         0         \n",
      "_________________________________________________________________\n",
      "conv_dw_12 (DepthwiseConv2D) (None, 3, 3, 512)         4608      \n",
      "_________________________________________________________________\n",
      "conv_dw_12_bn (BatchNormaliz (None, 3, 3, 512)         2048      \n",
      "_________________________________________________________________\n",
      "conv_dw_12_relu (ReLU)       (None, 3, 3, 512)         0         \n",
      "_________________________________________________________________\n",
      "conv_pw_12 (Conv2D)          (None, 3, 3, 1024)        524288    \n",
      "_________________________________________________________________\n",
      "conv_pw_12_bn (BatchNormaliz (None, 3, 3, 1024)        4096      \n",
      "_________________________________________________________________\n",
      "conv_pw_12_relu (ReLU)       (None, 3, 3, 1024)        0         \n",
      "_________________________________________________________________\n",
      "conv_dw_13 (DepthwiseConv2D) (None, 3, 3, 1024)        9216      \n",
      "_________________________________________________________________\n",
      "conv_dw_13_bn (BatchNormaliz (None, 3, 3, 1024)        4096      \n",
      "_________________________________________________________________\n",
      "conv_dw_13_relu (ReLU)       (None, 3, 3, 1024)        0         \n",
      "_________________________________________________________________\n",
      "conv_pw_13 (Conv2D)          (None, 3, 3, 1024)        1048576   \n",
      "_________________________________________________________________\n",
      "conv_pw_13_bn (BatchNormaliz (None, 3, 3, 1024)        4096      \n",
      "_________________________________________________________________\n",
      "conv_pw_13_relu (ReLU)       (None, 3, 3, 1024)        0         \n",
      "_________________________________________________________________\n",
      "flatten (Flatten)            (None, 9216)              0         \n",
      "_________________________________________________________________\n",
      "dense (Dense)                (None, 80)                737360    \n",
      "=================================================================\n",
      "Total params: 3,966,224\n",
      "Trainable params: 3,944,336\n",
      "Non-trainable params: 21,888\n",
      "_________________________________________________________________\n"
     ]
    }
   ],
   "source": [
    "model = get_2dcnn_model()\n",
    "model.summary()"
   ]
  },
  {
   "cell_type": "code",
   "execution_count": 31,
   "metadata": {
    "execution": {
     "iopub.execute_input": "2020-12-10T15:17:29.240701Z",
     "iopub.status.busy": "2020-12-10T15:17:29.240057Z",
     "iopub.status.idle": "2020-12-10T15:44:02.503992Z",
     "shell.execute_reply": "2020-12-10T15:44:02.503298Z"
    },
    "papermill": {
     "duration": 1593.299329,
     "end_time": "2020-12-10T15:44:02.504136",
     "exception": false,
     "start_time": "2020-12-10T15:17:29.204807",
     "status": "completed"
    },
    "tags": []
   },
   "outputs": [
    {
     "name": "stdout",
     "output_type": "stream",
     "text": [
      "Epoch 1/11\n",
      "902/902 - 305s - loss: 0.0747 - lwlrap: 0.2353 - val_loss: 0.0621 - val_lwlrap: 0.3342\n",
      "Epoch 2/11\n",
      "902/902 - 129s - loss: 0.0597 - lwlrap: 0.3656 - val_loss: 0.0653 - val_lwlrap: 0.3497\n",
      "Epoch 3/11\n",
      "902/902 - 129s - loss: 0.0535 - lwlrap: 0.4410 - val_loss: 0.0560 - val_lwlrap: 0.4238\n",
      "Epoch 4/11\n",
      "902/902 - 133s - loss: 0.0489 - lwlrap: 0.5066 - val_loss: 0.0649 - val_lwlrap: 0.4006\n",
      "Epoch 5/11\n",
      "902/902 - 129s - loss: 0.0446 - lwlrap: 0.5606 - val_loss: 0.0618 - val_lwlrap: 0.4305\n",
      "Epoch 6/11\n",
      "902/902 - 128s - loss: 0.0413 - lwlrap: 0.6015 - val_loss: 0.0795 - val_lwlrap: 0.3591\n",
      "Epoch 7/11\n",
      "902/902 - 127s - loss: 0.0373 - lwlrap: 0.6536 - val_loss: 0.0701 - val_lwlrap: 0.4216\n",
      "Epoch 8/11\n",
      "902/902 - 127s - loss: 0.0330 - lwlrap: 0.7004 - val_loss: 0.0667 - val_lwlrap: 0.4563\n",
      "Epoch 9/11\n",
      "902/902 - 125s - loss: 0.0291 - lwlrap: 0.7428 - val_loss: 0.0518 - val_lwlrap: 0.5205\n",
      "Epoch 10/11\n",
      "902/902 - 126s - loss: 0.0253 - lwlrap: 0.7868 - val_loss: 0.0556 - val_lwlrap: 0.5199\n",
      "Epoch 11/11\n",
      "902/902 - 126s - loss: 0.0221 - lwlrap: 0.8213 - val_loss: 0.0586 - val_lwlrap: 0.4997\n"
     ]
    },
    {
     "data": {
      "text/plain": [
       "<tensorflow.python.keras.callbacks.History at 0x7f01804e1e90>"
      ]
     },
     "execution_count": 31,
     "metadata": {},
     "output_type": "execute_result"
    }
   ],
   "source": [
    "model.fit(train_dataset,\n",
    "          validation_data=val_dataset,\n",
    "          callbacks=callbacks_list,\n",
    "          verbose=2,\n",
    "          epochs=11)"
   ]
  },
  {
   "cell_type": "markdown",
   "metadata": {},
   "source": [
    "### Cross validation curve for 2-D CNN Model"
   ]
  },
  {
   "cell_type": "markdown",
   "metadata": {},
   "source": [
    "### Loss curve"
   ]
  },
  {
   "attachments": {
    "epoch_loss.PNG": {
     "image/png": "[encoded data removed]"
    }
   },
   "cell_type": "markdown",
   "metadata": {},
   "source": [
    "![epoch_loss.PNG](attachment:epoch_loss.PNG)"
   ]
  },
  {
   "cell_type": "markdown",
   "metadata": {},
   "source": [
    "### LWLRAP Curve"
   ]
  },
  {
   "attachments": {
    "epoch_lwlrap.PNG": {
     "image/png": "[encoded data removed]"
    }
   },
   "cell_type": "markdown",
   "metadata": {},
   "source": [
    "![epoch_lwlrap.PNG](attachment:epoch_lwlrap.PNG)"
   ]
  },
  {
   "cell_type": "markdown",
   "metadata": {},
   "source": [
    "We get sufficiently good validation performance after 9 epochs, also, the difference between the train and validation scores is not very high, so, we are sure that the model is not overfitting."
   ]
  },
  {
   "cell_type": "markdown",
   "metadata": {},
   "source": [
    "## Performance on test dataset"
   ]
  },
  {
   "cell_type": "code",
   "execution_count": 28,
   "metadata": {},
   "outputs": [],
   "source": [
    "TEST_DIR = r'test_data/'\n",
    "df_test = pd.read_csv(r'sample_submission.csv')\n",
    "test_csv_path = r'sample_submission.csv'"
   ]
  },
  {
   "cell_type": "markdown",
   "metadata": {},
   "source": [
    "### Preparing test_dataset"
   ]
  },
  {
   "cell_type": "code",
   "execution_count": 29,
   "metadata": {},
   "outputs": [],
   "source": [
    "def get_test_file_name(full_csv_string):\n",
    "    '''\n",
    "    Description -> Returns the filename ('filename1.wav') from the complete csv record (\"filename1.wav,label1,label2,..label80\")\n",
    "    Input -> The complete csv_record read from sample_submission.csv file\n",
    "    Output -> Extracted filename of the clip ('filename1.wav')\n",
    "    '''\n",
    "    return tf.strings.split(full_csv_string, sep=r',')[0]"
   ]
  },
  {
   "cell_type": "code",
   "execution_count": 30,
   "metadata": {},
   "outputs": [],
   "source": [
    "test_dataset = tf.data.TextLineDataset(test_csv_path)\n",
    "test_dataset = test_dataset.skip(1)\n",
    "test_dataset=test_dataset.map(get_test_file_name)\n",
    "\n",
    "test_dataset = test_dataset.map(lambda x: clip_to_log_mel_examples(x,\n",
    "                                                                   clip_dir=TEST_DIR),\n",
    "                                num_parallel_calls=AUTOTUNE)"
   ]
  },
  {
   "cell_type": "code",
   "execution_count": 31,
   "metadata": {},
   "outputs": [],
   "source": [
    "# Each clip is windowed into several examples of varying sizes which we unbatch and again batch into uniform sized batches\n",
    "# But, we need to keep track of the number of windows for each example as these will be helpful in the end when we will average\n",
    "# the outcomes of all the examples\n",
    "clip_sizes=[None]*len(os.listdir(TEST_DIR))\n",
    "i=0\n",
    "for clip in test_dataset:\n",
    "    clip_sizes[i]=(tf.shape(clip)[0]).numpy()\n",
    "    i+=1"
   ]
  },
  {
   "cell_type": "code",
   "execution_count": 32,
   "metadata": {},
   "outputs": [],
   "source": [
    "model = get_2dcnn_model(r'weights_9-loss_0.0291_lwlrap_0.7428.h5')"
   ]
  },
  {
   "cell_type": "code",
   "execution_count": 14,
   "metadata": {
    "execution": {
     "iopub.execute_input": "2020-12-10T16:18:25.975684Z",
     "iopub.status.busy": "2020-12-10T16:18:25.975046Z",
     "iopub.status.idle": "2020-12-10T16:28:23.343162Z",
     "shell.execute_reply": "2020-12-10T16:28:23.342501Z"
    },
    "papermill": {
     "duration": 597.389294,
     "end_time": "2020-12-10T16:28:23.343276",
     "exception": false,
     "start_time": "2020-12-10T16:18:25.953982",
     "status": "completed"
    },
    "tags": []
   },
   "outputs": [
    {
     "name": "stdout",
     "output_type": "stream",
     "text": [
      "3361/3361 [==============================] - 593s 176ms/step\n"
     ]
    }
   ],
   "source": [
    "predictions=model.predict(test_dataset, verbose=1)"
   ]
  },
  {
   "cell_type": "code",
   "execution_count": 15,
   "metadata": {
    "execution": {
     "iopub.execute_input": "2020-12-10T16:28:24.782805Z",
     "iopub.status.busy": "2020-12-10T16:28:24.781016Z",
     "iopub.status.idle": "2020-12-10T16:28:24.807959Z",
     "shell.execute_reply": "2020-12-10T16:28:24.807415Z"
    },
    "papermill": {
     "duration": 0.749869,
     "end_time": "2020-12-10T16:28:24.808066",
     "exception": false,
     "start_time": "2020-12-10T16:28:24.058197",
     "status": "completed"
    },
    "tags": []
   },
   "outputs": [],
   "source": [
    "# Converting the model's outputs to prob. values between 0 and 1 using Sigmoid function\n",
    "predictions_sigmoid = 1/(1 + np.exp(-predictions))"
   ]
  },
  {
   "cell_type": "code",
   "execution_count": 33,
   "metadata": {},
   "outputs": [],
   "source": [
    "def averaged_prediction(label_idx, start_idx):\n",
    "    '''\n",
    "    Description ->\n",
    "    The model predicts the probabilities for each of the 80 classes for each window, but, for final predictions we need to\n",
    "    combine the predictions for all windows of a given clip so that we get y_pred to be of the same size as number of clips\n",
    "    in the test dataset\n",
    "    \n",
    "    Inputs ->\n",
    "    label_idx: Index corr. to the current clip being processed, this is used to obtain the total number of windows in the given\n",
    "    clip using the earlier computed \"clip_sizes\" list\n",
    "    \n",
    "    start_idx: Index of the first window in the predictions from which the averaging has to start for the given clip\n",
    "    The average is computed from start_idx upto (start_idx + clip_size) which acts like end_idx\n",
    "    \n",
    "    Output ->\n",
    "    end_idx: The index of the last window of the given clip (which acts like the starting index of the next clip)\n",
    "    avg: Averaged predictions of all windows corr. to a particular clip from start_idx till end_idx\n",
    "    '''\n",
    "    size=clip_sizes[label_idx]\n",
    "    end_idx=start_idx+size\n",
    "    df=predictions_sigmoid[start_idx:end_idx]\n",
    "    avg=np.average(df, axis=0)\n",
    "    return end_idx, avg"
   ]
  },
  {
   "cell_type": "code",
   "execution_count": 34,
   "metadata": {
    "execution": {
     "iopub.execute_input": "2020-12-10T16:28:26.269548Z",
     "iopub.status.busy": "2020-12-10T16:28:26.268944Z",
     "iopub.status.idle": "2020-12-10T16:28:26.332828Z",
     "shell.execute_reply": "2020-12-10T16:28:26.332282Z"
    },
    "papermill": {
     "duration": 0.783461,
     "end_time": "2020-12-10T16:28:26.332952",
     "exception": false,
     "start_time": "2020-12-10T16:28:25.549491",
     "status": "completed"
    },
    "tags": []
   },
   "outputs": [],
   "source": [
    "test_dataset_size=len(clip_sizes)\n",
    "predictions_final=np.zeros((test_dataset_size, config.n_classes))\n",
    "start_idx=0\n",
    "for label_idx in range(test_dataset_size):\n",
    "    start_idx, predictions_final[label_idx] = averaged_prediction(label_idx, start_idx)"
   ]
  },
  {
   "cell_type": "code",
   "execution_count": 35,
   "metadata": {
    "execution": {
     "iopub.execute_input": "2020-12-10T16:28:27.778670Z",
     "iopub.status.busy": "2020-12-10T16:28:27.777736Z",
     "iopub.status.idle": "2020-12-10T16:28:27.907230Z",
     "shell.execute_reply": "2020-12-10T16:28:27.906624Z"
    },
    "papermill": {
     "duration": 0.854302,
     "end_time": "2020-12-10T16:28:27.907340",
     "exception": false,
     "start_time": "2020-12-10T16:28:27.053038",
     "status": "completed"
    },
    "tags": []
   },
   "outputs": [],
   "source": [
    "df_test.iloc[:, 1:] = predictions_final"
   ]
  },
  {
   "cell_type": "code",
   "execution_count": 36,
   "metadata": {},
   "outputs": [
    {
     "data": {
      "text/html": [
       "<div>\n",
       "<style scoped>\n",
       "    .dataframe tbody tr th:only-of-type {\n",
       "        vertical-align: middle;\n",
       "    }\n",
       "\n",
       "    .dataframe tbody tr th {\n",
       "        vertical-align: top;\n",
       "    }\n",
       "\n",
       "    .dataframe thead th {\n",
       "        text-align: right;\n",
       "    }\n",
       "</style>\n",
       "<table border=\"1\" class=\"dataframe\">\n",
       "  <thead>\n",
       "    <tr style=\"text-align: right;\">\n",
       "      <th></th>\n",
       "      <th>fname</th>\n",
       "      <th>Accelerating_and_revving_and_vroom</th>\n",
       "      <th>Accordion</th>\n",
       "      <th>Acoustic_guitar</th>\n",
       "      <th>Applause</th>\n",
       "      <th>Bark</th>\n",
       "      <th>Bass_drum</th>\n",
       "      <th>Bass_guitar</th>\n",
       "      <th>Bathtub_(filling_or_washing)</th>\n",
       "      <th>Bicycle_bell</th>\n",
       "      <th>...</th>\n",
       "      <th>Toilet_flush</th>\n",
       "      <th>Traffic_noise_and_roadway_noise</th>\n",
       "      <th>Trickle_and_dribble</th>\n",
       "      <th>Walk_and_footsteps</th>\n",
       "      <th>Water_tap_and_faucet</th>\n",
       "      <th>Waves_and_surf</th>\n",
       "      <th>Whispering</th>\n",
       "      <th>Writing</th>\n",
       "      <th>Yell</th>\n",
       "      <th>Zipper_(clothing)</th>\n",
       "    </tr>\n",
       "  </thead>\n",
       "  <tbody>\n",
       "    <tr>\n",
       "      <th>0</th>\n",
       "      <td>4260ebea.wav</td>\n",
       "      <td>0.000045</td>\n",
       "      <td>0.000099</td>\n",
       "      <td>0.001728</td>\n",
       "      <td>0.000144</td>\n",
       "      <td>0.001175</td>\n",
       "      <td>0.001660</td>\n",
       "      <td>0.000034</td>\n",
       "      <td>0.029919</td>\n",
       "      <td>0.003223</td>\n",
       "      <td>...</td>\n",
       "      <td>0.100555</td>\n",
       "      <td>0.000229</td>\n",
       "      <td>0.323414</td>\n",
       "      <td>0.001683</td>\n",
       "      <td>0.049350</td>\n",
       "      <td>0.000723</td>\n",
       "      <td>0.001828</td>\n",
       "      <td>0.008303</td>\n",
       "      <td>0.000393</td>\n",
       "      <td>0.018412</td>\n",
       "    </tr>\n",
       "    <tr>\n",
       "      <th>1</th>\n",
       "      <td>426eb1e0.wav</td>\n",
       "      <td>0.000084</td>\n",
       "      <td>0.000005</td>\n",
       "      <td>0.000003</td>\n",
       "      <td>0.894166</td>\n",
       "      <td>0.000440</td>\n",
       "      <td>0.000066</td>\n",
       "      <td>0.000002</td>\n",
       "      <td>0.000175</td>\n",
       "      <td>0.002628</td>\n",
       "      <td>...</td>\n",
       "      <td>0.000129</td>\n",
       "      <td>0.006841</td>\n",
       "      <td>0.002670</td>\n",
       "      <td>0.000737</td>\n",
       "      <td>0.000019</td>\n",
       "      <td>0.001283</td>\n",
       "      <td>0.000102</td>\n",
       "      <td>0.000123</td>\n",
       "      <td>0.000036</td>\n",
       "      <td>0.000099</td>\n",
       "    </tr>\n",
       "    <tr>\n",
       "      <th>2</th>\n",
       "      <td>428d70bb.wav</td>\n",
       "      <td>0.000920</td>\n",
       "      <td>0.001011</td>\n",
       "      <td>0.003619</td>\n",
       "      <td>0.007204</td>\n",
       "      <td>0.008988</td>\n",
       "      <td>0.004023</td>\n",
       "      <td>0.000168</td>\n",
       "      <td>0.013827</td>\n",
       "      <td>0.013958</td>\n",
       "      <td>...</td>\n",
       "      <td>0.029190</td>\n",
       "      <td>0.002779</td>\n",
       "      <td>0.009962</td>\n",
       "      <td>0.005733</td>\n",
       "      <td>0.012128</td>\n",
       "      <td>0.002960</td>\n",
       "      <td>0.047745</td>\n",
       "      <td>0.006543</td>\n",
       "      <td>0.025462</td>\n",
       "      <td>0.022797</td>\n",
       "    </tr>\n",
       "    <tr>\n",
       "      <th>3</th>\n",
       "      <td>4292b1c9.wav</td>\n",
       "      <td>0.000106</td>\n",
       "      <td>0.000238</td>\n",
       "      <td>0.000393</td>\n",
       "      <td>0.006113</td>\n",
       "      <td>0.043979</td>\n",
       "      <td>0.000898</td>\n",
       "      <td>0.003302</td>\n",
       "      <td>0.000355</td>\n",
       "      <td>0.001006</td>\n",
       "      <td>...</td>\n",
       "      <td>0.004895</td>\n",
       "      <td>0.003293</td>\n",
       "      <td>0.014764</td>\n",
       "      <td>0.003972</td>\n",
       "      <td>0.001366</td>\n",
       "      <td>0.000003</td>\n",
       "      <td>0.000733</td>\n",
       "      <td>0.002593</td>\n",
       "      <td>0.006002</td>\n",
       "      <td>0.000543</td>\n",
       "    </tr>\n",
       "    <tr>\n",
       "      <th>4</th>\n",
       "      <td>429c5071.wav</td>\n",
       "      <td>0.001094</td>\n",
       "      <td>0.000096</td>\n",
       "      <td>0.001407</td>\n",
       "      <td>0.000497</td>\n",
       "      <td>0.012905</td>\n",
       "      <td>0.037327</td>\n",
       "      <td>0.000848</td>\n",
       "      <td>0.003218</td>\n",
       "      <td>0.003100</td>\n",
       "      <td>...</td>\n",
       "      <td>0.008060</td>\n",
       "      <td>0.001905</td>\n",
       "      <td>0.020074</td>\n",
       "      <td>0.114127</td>\n",
       "      <td>0.008279</td>\n",
       "      <td>0.008655</td>\n",
       "      <td>0.005131</td>\n",
       "      <td>0.020177</td>\n",
       "      <td>0.000466</td>\n",
       "      <td>0.035189</td>\n",
       "    </tr>\n",
       "  </tbody>\n",
       "</table>\n",
       "<p>5 rows × 81 columns</p>\n",
       "</div>"
      ],
      "text/plain": [
       "          fname  Accelerating_and_revving_and_vroom  Accordion  \\\n",
       "0  4260ebea.wav                            0.000045   0.000099   \n",
       "1  426eb1e0.wav                            0.000084   0.000005   \n",
       "2  428d70bb.wav                            0.000920   0.001011   \n",
       "3  4292b1c9.wav                            0.000106   0.000238   \n",
       "4  429c5071.wav                            0.001094   0.000096   \n",
       "\n",
       "   Acoustic_guitar  Applause      Bark  Bass_drum  Bass_guitar  \\\n",
       "0         0.001728  0.000144  0.001175   0.001660     0.000034   \n",
       "1         0.000003  0.894166  0.000440   0.000066     0.000002   \n",
       "2         0.003619  0.007204  0.008988   0.004023     0.000168   \n",
       "3         0.000393  0.006113  0.043979   0.000898     0.003302   \n",
       "4         0.001407  0.000497  0.012905   0.037327     0.000848   \n",
       "\n",
       "   Bathtub_(filling_or_washing)  Bicycle_bell  ...  Toilet_flush  \\\n",
       "0                      0.029919      0.003223  ...      0.100555   \n",
       "1                      0.000175      0.002628  ...      0.000129   \n",
       "2                      0.013827      0.013958  ...      0.029190   \n",
       "3                      0.000355      0.001006  ...      0.004895   \n",
       "4                      0.003218      0.003100  ...      0.008060   \n",
       "\n",
       "   Traffic_noise_and_roadway_noise  Trickle_and_dribble  Walk_and_footsteps  \\\n",
       "0                         0.000229             0.323414            0.001683   \n",
       "1                         0.006841             0.002670            0.000737   \n",
       "2                         0.002779             0.009962            0.005733   \n",
       "3                         0.003293             0.014764            0.003972   \n",
       "4                         0.001905             0.020074            0.114127   \n",
       "\n",
       "   Water_tap_and_faucet  Waves_and_surf  Whispering   Writing      Yell  \\\n",
       "0              0.049350        0.000723    0.001828  0.008303  0.000393   \n",
       "1              0.000019        0.001283    0.000102  0.000123  0.000036   \n",
       "2              0.012128        0.002960    0.047745  0.006543  0.025462   \n",
       "3              0.001366        0.000003    0.000733  0.002593  0.006002   \n",
       "4              0.008279        0.008655    0.005131  0.020177  0.000466   \n",
       "\n",
       "   Zipper_(clothing)  \n",
       "0           0.018412  \n",
       "1           0.000099  \n",
       "2           0.022797  \n",
       "3           0.000543  \n",
       "4           0.035189  \n",
       "\n",
       "[5 rows x 81 columns]"
      ]
     },
     "execution_count": 36,
     "metadata": {},
     "output_type": "execute_result"
    }
   ],
   "source": [
    "df_test.head()"
   ]
  },
  {
   "cell_type": "code",
   "execution_count": 37,
   "metadata": {},
   "outputs": [],
   "source": [
    "df_test.to_csv('submissions.csv', index=False)"
   ]
  },
  {
   "cell_type": "markdown",
   "metadata": {},
   "source": [
    "### Test Score"
   ]
  },
  {
   "attachments": {
    "final_score.PNG": {
     "image/png": "[encoded data removed]"
    }
   },
   "cell_type": "markdown",
   "metadata": {},
   "source": [
    "![final_score.PNG](attachment:final_score.PNG)"
   ]
  },
  {
   "cell_type": "markdown",
   "metadata": {},
   "source": [
    "### Observations:\n",
    "Training LWLRAP = 0.743 <br>\n",
    "Validation LWLRAP = 0.52 <br>\n",
    "Testing LWLRAP = 0.514"
   ]
  },
  {
   "cell_type": "markdown",
   "metadata": {},
   "source": [
    "### Conclusion"
   ]
  },
  {
   "cell_type": "markdown",
   "metadata": {},
   "source": [
    "The 2-D CNN (MobileNet) model performs very well as compared to the previous model. The difference between training and validation LWLRAP is not too high. Also, the validation and test score are also very similar which indicates the model is performing well on unseen data as well. Hence, we consider this as our final model."
   ]
  }
 ],
 "metadata": {
  "kernelspec": {
   "display_name": "Python 3",
   "language": "python",
   "name": "python3"
  },
  "language_info": {
   "codemirror_mode": {
    "name": "ipython",
    "version": 3
   },
   "file_extension": ".py",
   "mimetype": "text/x-python",
   "name": "python",
   "nbconvert_exporter": "python",
   "pygments_lexer": "ipython3",
   "version": "3.7.6"
  }
 },
 "nbformat": 4,
 "nbformat_minor": 4
}
